{
 "cells": [
  {
   "cell_type": "markdown",
   "metadata": {},
   "source": [
    "Data Source: <br>\n",
    "[drivendata.org link](https://www.drivendata.org/competitions/7/pump-it-up-data-mining-the-water-table/data/) [login required]"
   ]
  },
  {
   "cell_type": "markdown",
   "metadata": {},
   "source": [
    "### Notebook 1: Data Cleaning, Exploration, and Preprocessing\n",
    "**Author:<br>\n",
    "Tashi T. Gurung**<br>\n",
    "**hseb.tashi@gmail.com**"
   ]
  },
  {
   "cell_type": "markdown",
   "metadata": {},
   "source": [
    "### About the project:\n",
    "The **objective** of this project is to **predict the failure of water points** spread accross Tanzania before they occur.\n",
    "\n",
    "50% of Tanzania's population do not have access to safe water. Among other sources, Tanzanians depend on water points mostly pumps (~60K) spread across Tanzania. Compared to other infrastructure projects, water point projects consist of a huge number of inspection points that are geographically spread out. Gathering data on the condition of these pumps has been a challenge. From working with local agencies, to implementing mobile based crowd sourcing projects, none have produced satisfactory results.\n",
    "\n",
    "The lack of quality data creates a number of problem for a stakeholder like the Tanzanian Government, specifically the Ministry of Water. Consequences include not only higher maintainence costs, but also all the problems and nuanced issues faced by communities when their access to water is compromised or threatened.\n",
    "\n",
    "While better data collection infrastructure should be built overtime, this project (with its model(s), various analysis, and insights) will be key for efficient resource allocation to maximize the number of people and communities with access to water.\n",
    "In the long run, it will assist stake holders in and project planning, and even local, regional and national level policy formation. "
   ]
  },
  {
   "cell_type": "markdown",
   "metadata": {},
   "source": [
    "**Features**\n",
    "\n",
    "- **amount_tsh** - Total static head (amount water available to waterpoint)\n",
    "- **date_recorded** - The date the row was entered\n",
    "- **funder** - Who funded the well\n",
    "- **gps_height** - Altitude of the well\n",
    "- **installer** - Organization that installed the well\n",
    "- **longitude** - GPS coordinate\n",
    "- **latitude** - GPS coordinate\n",
    "- **wpt_name** - Name of the waterpoint if there is one\n",
    "- **num_private** -\n",
    "- **basin** - Geographic water basin\n",
    "- **subvillage** - Geographic location\n",
    "- **region** - Geographic location\n",
    "- **region_code** - Geographic location (coded)\n",
    "- **district_code** - Geographic location (coded)\n",
    "- **lga** - Geographic location\n",
    "- **ward** - Geographic location\n",
    "- **population** - Population around the well\n",
    "- **public_meeting** - True/False\n",
    "- **recorded_by** - Group entering this row of data\n",
    "- **scheme_management** - Who operates the waterpoint\n",
    "- **scheme_name** - Who operates the waterpoint\n",
    "- **permit** - If the waterpoint is permitted\n",
    "- **construction_year** - Year the waterpoint was constructed\n",
    "- **extraction_type** - The kind of extraction the waterpoint uses\n",
    "- **extraction_type_group** - The kind of extraction the waterpoint uses\n",
    "- **extraction_type_class** - The kind of extraction the waterpoint uses\n",
    "- **management** - How the waterpoint is managed\n",
    "- **management_group** - How the waterpoint is managed\n",
    "- **payment** - What the water costs\n",
    "- **payment_type** - What the water costs\n",
    "- **water_quality** - The quality of the water\n",
    "- **quality_group** - The quality of the water\n",
    "- **quantity** - The quantity of water\n",
    "- **quantity_group** - The quantity of water\n",
    "- **source** - The source of the water\n",
    "- **source_type** - The source of the water\n",
    "- **source_class** - The source of the water\n",
    "- **waterpoint_type** - The kind of waterpoint\n",
    "- **waterpoint_type_group** - The kind of waterpoint"
   ]
  },
  {
   "cell_type": "markdown",
   "metadata": {},
   "source": [
    "---"
   ]
  },
  {
   "cell_type": "markdown",
   "metadata": {},
   "source": [
    "### import libraries"
   ]
  },
  {
   "cell_type": "code",
   "execution_count": 1,
   "metadata": {},
   "outputs": [],
   "source": [
    "import pandas as pd\n",
    "import numpy as np\n",
    "import matplotlib.pyplot as plt\n",
    "import seaborn as sns\n",
    "\n",
    "import warnings\n",
    "\n",
    "# Filter out FutureWarnings\n",
    "warnings.filterwarnings(\"ignore\", category=FutureWarning)"
   ]
  },
  {
   "cell_type": "markdown",
   "metadata": {},
   "source": [
    "### import datasets"
   ]
  },
  {
   "cell_type": "code",
   "execution_count": 2,
   "metadata": {},
   "outputs": [
    {
     "data": {
      "text/html": [
       "<div>\n",
       "<style scoped>\n",
       "    .dataframe tbody tr th:only-of-type {\n",
       "        vertical-align: middle;\n",
       "    }\n",
       "\n",
       "    .dataframe tbody tr th {\n",
       "        vertical-align: top;\n",
       "    }\n",
       "\n",
       "    .dataframe thead th {\n",
       "        text-align: right;\n",
       "    }\n",
       "</style>\n",
       "<table border=\"1\" class=\"dataframe\">\n",
       "  <thead>\n",
       "    <tr style=\"text-align: right;\">\n",
       "      <th></th>\n",
       "      <th>id</th>\n",
       "      <th>amount_tsh</th>\n",
       "      <th>date_recorded</th>\n",
       "      <th>funder</th>\n",
       "      <th>gps_height</th>\n",
       "      <th>installer</th>\n",
       "      <th>longitude</th>\n",
       "      <th>latitude</th>\n",
       "      <th>wpt_name</th>\n",
       "      <th>num_private</th>\n",
       "      <th>...</th>\n",
       "      <th>water_quality</th>\n",
       "      <th>quality_group</th>\n",
       "      <th>quantity</th>\n",
       "      <th>quantity_group</th>\n",
       "      <th>source</th>\n",
       "      <th>source_type</th>\n",
       "      <th>source_class</th>\n",
       "      <th>waterpoint_type</th>\n",
       "      <th>waterpoint_type_group</th>\n",
       "      <th>status_group</th>\n",
       "    </tr>\n",
       "  </thead>\n",
       "  <tbody>\n",
       "    <tr>\n",
       "      <th>0</th>\n",
       "      <td>69572</td>\n",
       "      <td>6000.0</td>\n",
       "      <td>2011-03-14</td>\n",
       "      <td>Roman</td>\n",
       "      <td>1390</td>\n",
       "      <td>Roman</td>\n",
       "      <td>34.938093</td>\n",
       "      <td>-9.856322</td>\n",
       "      <td>none</td>\n",
       "      <td>0</td>\n",
       "      <td>...</td>\n",
       "      <td>soft</td>\n",
       "      <td>good</td>\n",
       "      <td>enough</td>\n",
       "      <td>enough</td>\n",
       "      <td>spring</td>\n",
       "      <td>spring</td>\n",
       "      <td>groundwater</td>\n",
       "      <td>communal standpipe</td>\n",
       "      <td>communal standpipe</td>\n",
       "      <td>functional</td>\n",
       "    </tr>\n",
       "    <tr>\n",
       "      <th>1</th>\n",
       "      <td>8776</td>\n",
       "      <td>0.0</td>\n",
       "      <td>2013-03-06</td>\n",
       "      <td>Grumeti</td>\n",
       "      <td>1399</td>\n",
       "      <td>GRUMETI</td>\n",
       "      <td>34.698766</td>\n",
       "      <td>-2.147466</td>\n",
       "      <td>Zahanati</td>\n",
       "      <td>0</td>\n",
       "      <td>...</td>\n",
       "      <td>soft</td>\n",
       "      <td>good</td>\n",
       "      <td>insufficient</td>\n",
       "      <td>insufficient</td>\n",
       "      <td>rainwater harvesting</td>\n",
       "      <td>rainwater harvesting</td>\n",
       "      <td>surface</td>\n",
       "      <td>communal standpipe</td>\n",
       "      <td>communal standpipe</td>\n",
       "      <td>functional</td>\n",
       "    </tr>\n",
       "    <tr>\n",
       "      <th>2</th>\n",
       "      <td>34310</td>\n",
       "      <td>25.0</td>\n",
       "      <td>2013-02-25</td>\n",
       "      <td>Lottery Club</td>\n",
       "      <td>686</td>\n",
       "      <td>World vision</td>\n",
       "      <td>37.460664</td>\n",
       "      <td>-3.821329</td>\n",
       "      <td>Kwa Mahundi</td>\n",
       "      <td>0</td>\n",
       "      <td>...</td>\n",
       "      <td>soft</td>\n",
       "      <td>good</td>\n",
       "      <td>enough</td>\n",
       "      <td>enough</td>\n",
       "      <td>dam</td>\n",
       "      <td>dam</td>\n",
       "      <td>surface</td>\n",
       "      <td>communal standpipe multiple</td>\n",
       "      <td>communal standpipe</td>\n",
       "      <td>functional</td>\n",
       "    </tr>\n",
       "    <tr>\n",
       "      <th>3</th>\n",
       "      <td>67743</td>\n",
       "      <td>0.0</td>\n",
       "      <td>2013-01-28</td>\n",
       "      <td>Unicef</td>\n",
       "      <td>263</td>\n",
       "      <td>UNICEF</td>\n",
       "      <td>38.486161</td>\n",
       "      <td>-11.155298</td>\n",
       "      <td>Zahanati Ya Nanyumbu</td>\n",
       "      <td>0</td>\n",
       "      <td>...</td>\n",
       "      <td>soft</td>\n",
       "      <td>good</td>\n",
       "      <td>dry</td>\n",
       "      <td>dry</td>\n",
       "      <td>machine dbh</td>\n",
       "      <td>borehole</td>\n",
       "      <td>groundwater</td>\n",
       "      <td>communal standpipe multiple</td>\n",
       "      <td>communal standpipe</td>\n",
       "      <td>non functional</td>\n",
       "    </tr>\n",
       "    <tr>\n",
       "      <th>4</th>\n",
       "      <td>19728</td>\n",
       "      <td>0.0</td>\n",
       "      <td>2011-07-13</td>\n",
       "      <td>Action In A</td>\n",
       "      <td>0</td>\n",
       "      <td>Artisan</td>\n",
       "      <td>31.130847</td>\n",
       "      <td>-1.825359</td>\n",
       "      <td>Shuleni</td>\n",
       "      <td>0</td>\n",
       "      <td>...</td>\n",
       "      <td>soft</td>\n",
       "      <td>good</td>\n",
       "      <td>seasonal</td>\n",
       "      <td>seasonal</td>\n",
       "      <td>rainwater harvesting</td>\n",
       "      <td>rainwater harvesting</td>\n",
       "      <td>surface</td>\n",
       "      <td>communal standpipe</td>\n",
       "      <td>communal standpipe</td>\n",
       "      <td>functional</td>\n",
       "    </tr>\n",
       "  </tbody>\n",
       "</table>\n",
       "<p>5 rows × 41 columns</p>\n",
       "</div>"
      ],
      "text/plain": [
       "      id  amount_tsh date_recorded        funder  gps_height     installer  \\\n",
       "0  69572      6000.0    2011-03-14         Roman        1390         Roman   \n",
       "1   8776         0.0    2013-03-06       Grumeti        1399       GRUMETI   \n",
       "2  34310        25.0    2013-02-25  Lottery Club         686  World vision   \n",
       "3  67743         0.0    2013-01-28        Unicef         263        UNICEF   \n",
       "4  19728         0.0    2011-07-13   Action In A           0       Artisan   \n",
       "\n",
       "   longitude   latitude              wpt_name  num_private  ... water_quality  \\\n",
       "0  34.938093  -9.856322                  none            0  ...          soft   \n",
       "1  34.698766  -2.147466              Zahanati            0  ...          soft   \n",
       "2  37.460664  -3.821329           Kwa Mahundi            0  ...          soft   \n",
       "3  38.486161 -11.155298  Zahanati Ya Nanyumbu            0  ...          soft   \n",
       "4  31.130847  -1.825359               Shuleni            0  ...          soft   \n",
       "\n",
       "  quality_group      quantity  quantity_group                source  \\\n",
       "0          good        enough          enough                spring   \n",
       "1          good  insufficient    insufficient  rainwater harvesting   \n",
       "2          good        enough          enough                   dam   \n",
       "3          good           dry             dry           machine dbh   \n",
       "4          good      seasonal        seasonal  rainwater harvesting   \n",
       "\n",
       "            source_type source_class              waterpoint_type  \\\n",
       "0                spring  groundwater           communal standpipe   \n",
       "1  rainwater harvesting      surface           communal standpipe   \n",
       "2                   dam      surface  communal standpipe multiple   \n",
       "3              borehole  groundwater  communal standpipe multiple   \n",
       "4  rainwater harvesting      surface           communal standpipe   \n",
       "\n",
       "  waterpoint_type_group    status_group  \n",
       "0    communal standpipe      functional  \n",
       "1    communal standpipe      functional  \n",
       "2    communal standpipe      functional  \n",
       "3    communal standpipe  non functional  \n",
       "4    communal standpipe      functional  \n",
       "\n",
       "[5 rows x 41 columns]"
      ]
     },
     "execution_count": 2,
     "metadata": {},
     "output_type": "execute_result"
    }
   ],
   "source": [
    "raw_data_folder_location = '../data/raw/'\n",
    "\n",
    "# import features\n",
    "independent_variables_df = pd.read_csv(f'{raw_data_folder_location}independent_variables.csv')\n",
    "\n",
    "# import labels (target-variables) for features\n",
    "dependent_variables_df = pd.read_csv(f'{raw_data_folder_location}dependent_variables.csv')\n",
    "\n",
    "# merge features and it's labels (target variable)\n",
    "df = pd.merge(independent_variables_df, dependent_variables_df)\n",
    "\n",
    "df['date_recorded'] = pd.to_datetime(df['date_recorded'])\n",
    "\n",
    "df.head()"
   ]
  },
  {
   "cell_type": "markdown",
   "metadata": {},
   "source": [
    "---"
   ]
  },
  {
   "cell_type": "markdown",
   "metadata": {},
   "source": [
    "### lets look at the datatypes of the variables"
   ]
  },
  {
   "cell_type": "code",
   "execution_count": 10,
   "metadata": {},
   "outputs": [
    {
     "data": {
      "image/png": "[encoded data removed]",
      "text/plain": [
       "<Figure size 300x300 with 1 Axes>"
      ]
     },
     "metadata": {},
     "output_type": "display_data"
    }
   ],
   "source": [
    "tgt_var_counts = df['status_group'].value_counts()\n",
    "\n",
    "# Create a pie chart\n",
    "plt.figure(figsize=(3, 3))\n",
    "plt.pie(tgt_var_counts.values, labels=tgt_var_counts.index, autopct='%1.1f%%', startangle=90)\n",
    "plt.axis('equal')  # Equal aspect ratio ensures that pie is drawn as a circle.\n",
    "plt.title('Distribution of Water Pump Status')\n",
    "plt.show()\n"
   ]
  },
  {
   "cell_type": "markdown",
   "metadata": {},
   "source": [
    "**Observation:** <br>\n",
    "- immbalanced distribution"
   ]
  },
  {
   "cell_type": "markdown",
   "metadata": {},
   "source": [
    "---"
   ]
  },
  {
   "cell_type": "markdown",
   "metadata": {},
   "source": [
    "Lets look at other variables (independent)"
   ]
  },
  {
   "cell_type": "code",
   "execution_count": 21,
   "metadata": {},
   "outputs": [
    {
     "data": {
      "text/plain": [
       "recorded_by                  1\n",
       "public_meeting               2\n",
       "permit                       2\n",
       "status_group                 3\n",
       "source_class                 3\n",
       "quantity_group               5\n",
       "quantity                     5\n",
       "management_group             5\n",
       "quality_group                6\n",
       "waterpoint_type_group        6\n",
       "payment_type                 7\n",
       "payment                      7\n",
       "extraction_type_class        7\n",
       "waterpoint_type              7\n",
       "source_type                  7\n",
       "water_quality                8\n",
       "basin                        9\n",
       "source                      10\n",
       "scheme_management           11\n",
       "management                  12\n",
       "extraction_type_group       13\n",
       "extraction_type             18\n",
       "district_code               20\n",
       "region                      21\n",
       "region_code                 27\n",
       "construction_year           55\n",
       "num_private                 65\n",
       "amount_tsh                  98\n",
       "lga                        125\n",
       "date_recorded              356\n",
       "population                1049\n",
       "funder                    1896\n",
       "ward                      2092\n",
       "installer                 2145\n",
       "gps_height                2428\n",
       "scheme_name               2695\n",
       "subvillage               19287\n",
       "wpt_name                 37399\n",
       "longitude                57516\n",
       "latitude                 57517\n",
       "id                       59400\n",
       "dtype: int64"
      ]
     },
     "execution_count": 21,
     "metadata": {},
     "output_type": "execute_result"
    }
   ],
   "source": [
    "df.nunique().sort_values()"
   ]
  },
  {
   "cell_type": "markdown",
   "metadata": {},
   "source": [
    "**Observation:**\n",
    "- "
   ]
  },
  {
   "cell_type": "code",
   "execution_count": 14,
   "metadata": {},
   "outputs": [
    {
     "data": {
      "text/html": [
       "<div>\n",
       "<style scoped>\n",
       "    .dataframe tbody tr th:only-of-type {\n",
       "        vertical-align: middle;\n",
       "    }\n",
       "\n",
       "    .dataframe tbody tr th {\n",
       "        vertical-align: top;\n",
       "    }\n",
       "\n",
       "    .dataframe thead th {\n",
       "        text-align: right;\n",
       "    }\n",
       "</style>\n",
       "<table border=\"1\" class=\"dataframe\">\n",
       "  <thead>\n",
       "    <tr style=\"text-align: right;\">\n",
       "      <th></th>\n",
       "      <th>id</th>\n",
       "      <th>amount_tsh</th>\n",
       "      <th>date_recorded</th>\n",
       "      <th>gps_height</th>\n",
       "      <th>longitude</th>\n",
       "      <th>latitude</th>\n",
       "      <th>num_private</th>\n",
       "      <th>region_code</th>\n",
       "      <th>district_code</th>\n",
       "      <th>population</th>\n",
       "      <th>construction_year</th>\n",
       "    </tr>\n",
       "  </thead>\n",
       "  <tbody>\n",
       "    <tr>\n",
       "      <th>count</th>\n",
       "      <td>59400.000000</td>\n",
       "      <td>59400.000000</td>\n",
       "      <td>59400</td>\n",
       "      <td>59400.000000</td>\n",
       "      <td>59400.000000</td>\n",
       "      <td>5.940000e+04</td>\n",
       "      <td>59400.000000</td>\n",
       "      <td>59400.000000</td>\n",
       "      <td>59400.000000</td>\n",
       "      <td>59400.000000</td>\n",
       "      <td>59400.000000</td>\n",
       "    </tr>\n",
       "    <tr>\n",
       "      <th>mean</th>\n",
       "      <td>37115.131768</td>\n",
       "      <td>317.650385</td>\n",
       "      <td>2012-03-29 09:11:33.818181888</td>\n",
       "      <td>668.297239</td>\n",
       "      <td>34.077427</td>\n",
       "      <td>-5.706033e+00</td>\n",
       "      <td>0.474141</td>\n",
       "      <td>15.297003</td>\n",
       "      <td>5.629747</td>\n",
       "      <td>179.909983</td>\n",
       "      <td>1300.652475</td>\n",
       "    </tr>\n",
       "    <tr>\n",
       "      <th>min</th>\n",
       "      <td>0.000000</td>\n",
       "      <td>0.000000</td>\n",
       "      <td>2002-10-14 00:00:00</td>\n",
       "      <td>-90.000000</td>\n",
       "      <td>0.000000</td>\n",
       "      <td>-1.164944e+01</td>\n",
       "      <td>0.000000</td>\n",
       "      <td>1.000000</td>\n",
       "      <td>0.000000</td>\n",
       "      <td>0.000000</td>\n",
       "      <td>0.000000</td>\n",
       "    </tr>\n",
       "    <tr>\n",
       "      <th>25%</th>\n",
       "      <td>18519.750000</td>\n",
       "      <td>0.000000</td>\n",
       "      <td>2011-04-01 00:00:00</td>\n",
       "      <td>0.000000</td>\n",
       "      <td>33.090347</td>\n",
       "      <td>-8.540621e+00</td>\n",
       "      <td>0.000000</td>\n",
       "      <td>5.000000</td>\n",
       "      <td>2.000000</td>\n",
       "      <td>0.000000</td>\n",
       "      <td>0.000000</td>\n",
       "    </tr>\n",
       "    <tr>\n",
       "      <th>50%</th>\n",
       "      <td>37061.500000</td>\n",
       "      <td>0.000000</td>\n",
       "      <td>2012-10-10 00:00:00</td>\n",
       "      <td>369.000000</td>\n",
       "      <td>34.908743</td>\n",
       "      <td>-5.021597e+00</td>\n",
       "      <td>0.000000</td>\n",
       "      <td>12.000000</td>\n",
       "      <td>3.000000</td>\n",
       "      <td>25.000000</td>\n",
       "      <td>1986.000000</td>\n",
       "    </tr>\n",
       "    <tr>\n",
       "      <th>75%</th>\n",
       "      <td>55656.500000</td>\n",
       "      <td>20.000000</td>\n",
       "      <td>2013-02-09 00:00:00</td>\n",
       "      <td>1319.250000</td>\n",
       "      <td>37.178387</td>\n",
       "      <td>-3.326156e+00</td>\n",
       "      <td>0.000000</td>\n",
       "      <td>17.000000</td>\n",
       "      <td>5.000000</td>\n",
       "      <td>215.000000</td>\n",
       "      <td>2004.000000</td>\n",
       "    </tr>\n",
       "    <tr>\n",
       "      <th>max</th>\n",
       "      <td>74247.000000</td>\n",
       "      <td>350000.000000</td>\n",
       "      <td>2013-12-03 00:00:00</td>\n",
       "      <td>2770.000000</td>\n",
       "      <td>40.345193</td>\n",
       "      <td>-2.000000e-08</td>\n",
       "      <td>1776.000000</td>\n",
       "      <td>99.000000</td>\n",
       "      <td>80.000000</td>\n",
       "      <td>30500.000000</td>\n",
       "      <td>2013.000000</td>\n",
       "    </tr>\n",
       "    <tr>\n",
       "      <th>std</th>\n",
       "      <td>21453.128371</td>\n",
       "      <td>2997.574558</td>\n",
       "      <td>NaN</td>\n",
       "      <td>693.116350</td>\n",
       "      <td>6.567432</td>\n",
       "      <td>2.946019e+00</td>\n",
       "      <td>12.236230</td>\n",
       "      <td>17.587406</td>\n",
       "      <td>9.633649</td>\n",
       "      <td>471.482176</td>\n",
       "      <td>951.620547</td>\n",
       "    </tr>\n",
       "  </tbody>\n",
       "</table>\n",
       "</div>"
      ],
      "text/plain": [
       "                 id     amount_tsh                  date_recorded  \\\n",
       "count  59400.000000   59400.000000                          59400   \n",
       "mean   37115.131768     317.650385  2012-03-29 09:11:33.818181888   \n",
       "min        0.000000       0.000000            2002-10-14 00:00:00   \n",
       "25%    18519.750000       0.000000            2011-04-01 00:00:00   \n",
       "50%    37061.500000       0.000000            2012-10-10 00:00:00   \n",
       "75%    55656.500000      20.000000            2013-02-09 00:00:00   \n",
       "max    74247.000000  350000.000000            2013-12-03 00:00:00   \n",
       "std    21453.128371    2997.574558                            NaN   \n",
       "\n",
       "         gps_height     longitude      latitude   num_private   region_code  \\\n",
       "count  59400.000000  59400.000000  5.940000e+04  59400.000000  59400.000000   \n",
       "mean     668.297239     34.077427 -5.706033e+00      0.474141     15.297003   \n",
       "min      -90.000000      0.000000 -1.164944e+01      0.000000      1.000000   \n",
       "25%        0.000000     33.090347 -8.540621e+00      0.000000      5.000000   \n",
       "50%      369.000000     34.908743 -5.021597e+00      0.000000     12.000000   \n",
       "75%     1319.250000     37.178387 -3.326156e+00      0.000000     17.000000   \n",
       "max     2770.000000     40.345193 -2.000000e-08   1776.000000     99.000000   \n",
       "std      693.116350      6.567432  2.946019e+00     12.236230     17.587406   \n",
       "\n",
       "       district_code    population  construction_year  \n",
       "count   59400.000000  59400.000000       59400.000000  \n",
       "mean        5.629747    179.909983        1300.652475  \n",
       "min         0.000000      0.000000           0.000000  \n",
       "25%         2.000000      0.000000           0.000000  \n",
       "50%         3.000000     25.000000        1986.000000  \n",
       "75%         5.000000    215.000000        2004.000000  \n",
       "max        80.000000  30500.000000        2013.000000  \n",
       "std         9.633649    471.482176         951.620547  "
      ]
     },
     "execution_count": 14,
     "metadata": {},
     "output_type": "execute_result"
    }
   ],
   "source": [
    "df.describe()"
   ]
  },
  {
   "cell_type": "code",
   "execution_count": 531,
   "metadata": {},
   "outputs": [],
   "source": [
    "df.drop(columns='id', inplace = True)"
   ]
  },
  {
   "cell_type": "markdown",
   "metadata": {},
   "source": [
    "---"
   ]
  },
  {
   "cell_type": "markdown",
   "metadata": {},
   "source": [
    "# Missing Values"
   ]
  },
  {
   "cell_type": "code",
   "execution_count": 532,
   "metadata": {},
   "outputs": [
    {
     "name": "stdout",
     "output_type": "stream",
     "text": [
      "amount_tsh           41639\n",
      "gps_height           20438\n",
      "longitude             1812\n",
      "num_private          58643\n",
      "district_code           23\n",
      "population           21381\n",
      "construction_year    20709\n",
      "dtype: int64\n"
     ]
    }
   ],
   "source": [
    "numerical_features = df.select_dtypes(include=[np.number]).columns\n",
    "columns_with_zeros = df[numerical_features].apply(lambda col: (col == 0).sum())\n",
    "\n",
    "# Display columns with a significant number of zeros\n",
    "print(columns_with_zeros[columns_with_zeros > 0])"
   ]
  },
  {
   "cell_type": "markdown",
   "metadata": {},
   "source": [
    "Observation:\n",
    "- id : valid\n",
    "- amount_tsh: represents waterpoints with no water available.\n",
    "- gps_height: zero represents sea-level\n",
    "- longitude: 0 places the location in the Atlantic Ocean, so definitely missing value\n",
    "- num_private: data dictionary doesn't really say much\n",
    "- district_code: geographic code\n",
    "- population: either no people live near the pump, or it's missing value\n",
    "- construction_year: definitely missing value"
   ]
  },
  {
   "cell_type": "markdown",
   "metadata": {},
   "source": [
    "---"
   ]
  },
  {
   "cell_type": "markdown",
   "metadata": {},
   "source": [
    "### amount_tsh"
   ]
  },
  {
   "cell_type": "markdown",
   "metadata": {},
   "source": [
    "**Question:** <br>\n",
    "What percentage of functional water pumps have no water i.e. amount_tsh = 0?"
   ]
  },
  {
   "cell_type": "code",
   "execution_count": 533,
   "metadata": {},
   "outputs": [
    {
     "name": "stdout",
     "output_type": "stream",
     "text": [
      "Number of functional pumps with amount_tsh as zero: 19706\n"
     ]
    }
   ],
   "source": [
    "functional_zero_tsh = df[(df['status_group'] == 'functional') & (df['amount_tsh'] == 0)].shape[0]\n",
    "print(f\"Number of functional pumps with amount_tsh as zero: {functional_zero_tsh}\")"
   ]
  },
  {
   "cell_type": "code",
   "execution_count": 534,
   "metadata": {},
   "outputs": [],
   "source": [
    "functional_pumps = len(df[df['status_group'] == 'functional'])"
   ]
  },
  {
   "cell_type": "code",
   "execution_count": 535,
   "metadata": {},
   "outputs": [
    {
     "data": {
      "text/plain": [
       "0.6108682848197402"
      ]
     },
     "execution_count": 535,
     "metadata": {},
     "output_type": "execute_result"
    }
   ],
   "source": [
    "functional_zero_tsh/functional_pumps"
   ]
  },
  {
   "cell_type": "markdown",
   "metadata": {},
   "source": [
    "**Observation:** <br>\n",
    "- ~61% of functional pumps have an 'amount_tsh' value of zero <br>\n",
    "<br>\n",
    "\n",
    "**Possibilities:** <br>\n",
    " - missing value\n",
    " - might be genuine, pump might be functional, but there might be no water"
   ]
  },
  {
   "cell_type": "markdown",
   "metadata": {},
   "source": [
    "**Action:** <br>\n",
    "\n",
    "**In the future:**\n",
    "- We might do a segmentation analysis. For example, we can check if functional pumps with zero 'amount_tsh' are more common in certain regions, subvillages, or based on other categorical variables. This can provide insight into whether these zeros are valid or likely missing data.\n",
    "<br>\n",
    "\n",
    "**For now:**\n",
    "- impute missing values with median"
   ]
  },
  {
   "cell_type": "code",
   "execution_count": 536,
   "metadata": {},
   "outputs": [
    {
     "data": {
      "text/plain": [
       "status_group\n",
       "functional                 32259\n",
       "non functional             22824\n",
       "functional needs repair     4317\n",
       "Name: count, dtype: int64"
      ]
     },
     "execution_count": 536,
     "metadata": {},
     "output_type": "execute_result"
    }
   ],
   "source": [
    "df['status_group'].value_counts()"
   ]
  },
  {
   "cell_type": "code",
   "execution_count": 537,
   "metadata": {},
   "outputs": [],
   "source": [
    "df['amount_tsh'].replace(0, np.nan, inplace=True)\n",
    "\n",
    "median_tsh_functional = df[df['status_group'] == 'functional']['amount_tsh'].median()\n",
    "median_tsh_non_functional = df[df['status_group'] == 'non functional']['amount_tsh'].median()\n",
    "median_tsh_need_repair = df[df['status_group'] == 'functional needs repair']['amount_tsh'].median()"
   ]
  },
  {
   "cell_type": "code",
   "execution_count": 538,
   "metadata": {},
   "outputs": [],
   "source": [
    "df.loc[(df['status_group'] == 'functional')\\\n",
    "              & (df['amount_tsh'].isna()), 'amount_tsh'] = median_tsh_functional\n",
    "df.loc[(df['status_group'] == 'non functional')\\\n",
    "              & (df['amount_tsh'].isna()), 'amount_tsh'] = median_tsh_non_functional\n",
    "df.loc[(df['status_group'] == 'functional needs repair')\\\n",
    "              & (df['amount_tsh'].isna()), 'amount_tsh'] = median_tsh_need_repair"
   ]
  },
  {
   "cell_type": "markdown",
   "metadata": {},
   "source": [
    "### gps_height"
   ]
  },
  {
   "cell_type": "markdown",
   "metadata": {},
   "source": [
    "**Observation:** <br>\n",
    "- zero represents sea-level\n",
    "- the highest point in Tanzania is 5895 m (19,341 ft)\n",
    "- the lowest is floor of Lake Tanganyika, which goes down to 352 m (1,115 ft) below sea level at its deepest.\n",
    "- the lakes surface is above sea level.\n",
    "- zero could be valid\n",
    "- but given the high proportion of zeros, it might also contain  missing data \n",
    "<br>\n",
    "\n",
    "**Assumption:** <br>\n",
    "- We will assume it to be missing data\n",
    "\n",
    "**Action:** <br>\n",
    "\n",
    "**In the future:**\n",
    "- look more into it, someone with knowledge of Tanzania's topography might be instrumental\n",
    "\n",
    "**For now:**\n",
    "- impute missing values with median"
   ]
  },
  {
   "cell_type": "code",
   "execution_count": 539,
   "metadata": {},
   "outputs": [],
   "source": [
    "df['gps_height'].replace(0, np.nan, inplace=True)\n",
    "median_gps_height = df['gps_height'].median()\n",
    "df['gps_height'].fillna(median_gps_height, inplace=True)\n"
   ]
  },
  {
   "cell_type": "markdown",
   "metadata": {},
   "source": [
    "### longtitude"
   ]
  },
  {
   "cell_type": "markdown",
   "metadata": {},
   "source": [
    "**Observation:**\n",
    "- zero places the location in the Atlantic Ocean\n",
    "\n",
    "**Action:** \n",
    "- impute missing values with median"
   ]
  },
  {
   "cell_type": "code",
   "execution_count": 540,
   "metadata": {},
   "outputs": [],
   "source": [
    "df['longitude'].replace(0, np.nan, inplace=True)\n",
    "median_longitude = df['longitude'].median()\n",
    "df['longitude'].fillna(median_longitude, inplace=True)"
   ]
  },
  {
   "cell_type": "markdown",
   "metadata": {},
   "source": [
    "### num_private\n",
    "\n",
    "**Observation:** \n",
    "- data dictionary doesn't provide a clear definition. Challenging to determinne the exact meaning of this column\n",
    "\n",
    "**Action:**\n",
    "- Get a sense of unique values in this column besides zero to understand its distribution"
   ]
  },
  {
   "cell_type": "code",
   "execution_count": 541,
   "metadata": {},
   "outputs": [
    {
     "name": "stdout",
     "output_type": "stream",
     "text": [
      "num_private\n",
      "0       58643\n",
      "6          81\n",
      "1          73\n",
      "5          46\n",
      "8          46\n",
      "        ...  \n",
      "42          1\n",
      "23          1\n",
      "136         1\n",
      "698         1\n",
      "1402        1\n",
      "Name: count, Length: 65, dtype: int64\n"
     ]
    }
   ],
   "source": [
    "unique_values = df['num_private'].value_counts()\n",
    "print(unique_values)\n"
   ]
  },
  {
   "cell_type": "markdown",
   "metadata": {},
   "source": [
    "**Observation:** <br>\n",
    "- vast majority of values are zero, with few other values appearing sporadically\n",
    "- data dictionary doesn't provide much information\n",
    "<br>\n",
    "\n",
    "**Action:** <br>\n",
    "- drop the column"
   ]
  },
  {
   "cell_type": "code",
   "execution_count": 542,
   "metadata": {},
   "outputs": [],
   "source": [
    "df.drop('num_private', axis=1, inplace=True)"
   ]
  },
  {
   "cell_type": "markdown",
   "metadata": {},
   "source": [
    "### district_code\n",
    "\n",
    "**Observation:**\n",
    "- Given the data dictionary, district_code represents a coded geographic location\n",
    "- Zeros most likely represents missing data \n",
    "<br>\n",
    "\n",
    "**Action:**\n",
    "- impute missing values with mode"
   ]
  },
  {
   "cell_type": "code",
   "execution_count": 543,
   "metadata": {},
   "outputs": [],
   "source": [
    "df['district_code'].replace(0, np.nan, inplace=True)\n",
    "mode_district_code = df['district_code'].mode()[0]\n",
    "df['district_code'].fillna(mode_district_code, inplace=True)\n"
   ]
  },
  {
   "cell_type": "markdown",
   "metadata": {},
   "source": [
    "### population\n",
    "\n",
    "**Observation:** <br>\n",
    "- either noone lives near the pump, or it is missing value\n",
    "<br>\n",
    "\n",
    "**Assumption:** <br>\n",
    "- zeroes represent missing value \n",
    "<br>\n",
    "\n",
    "**Action:**\n",
    "- impute missing values with median"
   ]
  },
  {
   "cell_type": "code",
   "execution_count": 544,
   "metadata": {},
   "outputs": [],
   "source": [
    "df['population'].replace(0, np.nan, inplace=True)\n",
    "median_population = df['population'].median()\n",
    "df['population'].fillna(median_population, inplace=True)"
   ]
  },
  {
   "cell_type": "markdown",
   "metadata": {},
   "source": [
    "### contruction_year\n",
    "\n",
    "**Observation:** <br>\n",
    "- construction_year cannot be zero, so it is definitely a missing value\n",
    "<br>\n",
    "\n",
    "**Action:**\n",
    "- impute missing values with median"
   ]
  },
  {
   "cell_type": "code",
   "execution_count": 545,
   "metadata": {},
   "outputs": [],
   "source": [
    "df['construction_year'].replace(0, np.nan, inplace=True)\n",
    "median_construction_year = df['construction_year'].median()\n",
    "df['construction_year'].fillna(median_construction_year, inplace=True)"
   ]
  },
  {
   "cell_type": "markdown",
   "metadata": {},
   "source": [
    "---"
   ]
  },
  {
   "cell_type": "code",
   "execution_count": 546,
   "metadata": {},
   "outputs": [
    {
     "data": {
      "text/html": [
       "<div>\n",
       "<style scoped>\n",
       "    .dataframe tbody tr th:only-of-type {\n",
       "        vertical-align: middle;\n",
       "    }\n",
       "\n",
       "    .dataframe tbody tr th {\n",
       "        vertical-align: top;\n",
       "    }\n",
       "\n",
       "    .dataframe thead th {\n",
       "        text-align: right;\n",
       "    }\n",
       "</style>\n",
       "<table border=\"1\" class=\"dataframe\">\n",
       "  <thead>\n",
       "    <tr style=\"text-align: right;\">\n",
       "      <th></th>\n",
       "      <th>Missing Values</th>\n",
       "      <th>Percentage</th>\n",
       "    </tr>\n",
       "  </thead>\n",
       "  <tbody>\n",
       "    <tr>\n",
       "      <th>scheme_name</th>\n",
       "      <td>28810</td>\n",
       "      <td>48.501684</td>\n",
       "    </tr>\n",
       "    <tr>\n",
       "      <th>scheme_management</th>\n",
       "      <td>3878</td>\n",
       "      <td>6.528620</td>\n",
       "    </tr>\n",
       "    <tr>\n",
       "      <th>installer</th>\n",
       "      <td>3655</td>\n",
       "      <td>6.153199</td>\n",
       "    </tr>\n",
       "    <tr>\n",
       "      <th>funder</th>\n",
       "      <td>3637</td>\n",
       "      <td>6.122896</td>\n",
       "    </tr>\n",
       "    <tr>\n",
       "      <th>public_meeting</th>\n",
       "      <td>3334</td>\n",
       "      <td>5.612795</td>\n",
       "    </tr>\n",
       "    <tr>\n",
       "      <th>permit</th>\n",
       "      <td>3056</td>\n",
       "      <td>5.144781</td>\n",
       "    </tr>\n",
       "    <tr>\n",
       "      <th>subvillage</th>\n",
       "      <td>371</td>\n",
       "      <td>0.624579</td>\n",
       "    </tr>\n",
       "    <tr>\n",
       "      <th>wpt_name</th>\n",
       "      <td>2</td>\n",
       "      <td>0.003367</td>\n",
       "    </tr>\n",
       "    <tr>\n",
       "      <th>water_quality</th>\n",
       "      <td>0</td>\n",
       "      <td>0.000000</td>\n",
       "    </tr>\n",
       "    <tr>\n",
       "      <th>management</th>\n",
       "      <td>0</td>\n",
       "      <td>0.000000</td>\n",
       "    </tr>\n",
       "  </tbody>\n",
       "</table>\n",
       "</div>"
      ],
      "text/plain": [
       "                   Missing Values  Percentage\n",
       "scheme_name                 28810   48.501684\n",
       "scheme_management            3878    6.528620\n",
       "installer                    3655    6.153199\n",
       "funder                       3637    6.122896\n",
       "public_meeting               3334    5.612795\n",
       "permit                       3056    5.144781\n",
       "subvillage                    371    0.624579\n",
       "wpt_name                        2    0.003367\n",
       "water_quality                   0    0.000000\n",
       "management                      0    0.000000"
      ]
     },
     "execution_count": 546,
     "metadata": {},
     "output_type": "execute_result"
    }
   ],
   "source": [
    "# Check for missing values in each column\n",
    "missing_values = df.isnull().sum()\n",
    "missing_percentage = (df.isnull().sum() / len(df)) * 100\n",
    "missing_data = pd.concat([missing_values, missing_percentage], axis=1, keys=['Missing Values', 'Percentage'])\n",
    "missing_data.sort_values(by='Percentage', ascending=False).head(10)\n"
   ]
  },
  {
   "cell_type": "markdown",
   "metadata": {},
   "source": [
    "**Observation:** <br>\n",
    "- scheme_name: with > 48% data missing, imputing might introduce a lot of bias. Lets drop it\n",
    "- scheme_management, installer, funder: ~ 6% data missing. We can impute with mode(most frequent value) or a placeholder like \"unknown\"\n",
    "- public_meeting and permit: ~ 5% missing. Boolean features. Can treat missing value as third category \"unknown\"\n",
    "- subvillage: ~ 0.62% missing. Impute mode or replace with \"unknown\"\n",
    "- wpt_name: ~0.003% missing. Impute with mode or drop rows completely"
   ]
  },
  {
   "cell_type": "code",
   "execution_count": 547,
   "metadata": {},
   "outputs": [],
   "source": [
    "df['scheme_name'].fillna('Unknown', inplace=True)"
   ]
  },
  {
   "cell_type": "code",
   "execution_count": 548,
   "metadata": {},
   "outputs": [],
   "source": [
    "for column in ['scheme_management', 'installer', 'funder']:\n",
    "    most_frequent_value = df[column].mode()[0]\n",
    "    df[column].fillna(most_frequent_value, inplace=True)\n"
   ]
  },
  {
   "cell_type": "code",
   "execution_count": 549,
   "metadata": {},
   "outputs": [],
   "source": [
    "for column in ['public_meeting', 'permit']:\n",
    "    df[column].fillna('Unknown', inplace=True)"
   ]
  },
  {
   "cell_type": "code",
   "execution_count": 550,
   "metadata": {},
   "outputs": [],
   "source": [
    "most_frequent_subvillage = df['subvillage'].mode()[0]\n",
    "df['subvillage'].fillna(most_frequent_subvillage, inplace=True)\n"
   ]
  },
  {
   "cell_type": "code",
   "execution_count": 551,
   "metadata": {},
   "outputs": [],
   "source": [
    "most_frequent_wpt_name = df['wpt_name'].mode()[0]\n",
    "df['wpt_name'].fillna(most_frequent_wpt_name, inplace=True)\n"
   ]
  },
  {
   "cell_type": "markdown",
   "metadata": {},
   "source": [
    "---"
   ]
  },
  {
   "cell_type": "code",
   "execution_count": 552,
   "metadata": {},
   "outputs": [
    {
     "name": "stdout",
     "output_type": "stream",
     "text": [
      "Series([], dtype: int64)\n"
     ]
    }
   ],
   "source": [
    "missing_values_after = df.isnull().sum()\n",
    "print(missing_values_after[missing_values_after > 0])"
   ]
  },
  {
   "cell_type": "markdown",
   "metadata": {},
   "source": [
    "---"
   ]
  },
  {
   "cell_type": "markdown",
   "metadata": {},
   "source": [
    "### Outlier Detection"
   ]
  },
  {
   "cell_type": "code",
   "execution_count": 553,
   "metadata": {},
   "outputs": [
    {
     "data": {
      "image/png": "[encoded data removed]",
      "text/plain": [
       "<Figure size 400x300 with 1 Axes>"
      ]
     },
     "metadata": {},
     "output_type": "display_data"
    },
    {
     "data": {
      "image/png": "[encoded data removed]",
      "text/plain": [
       "<Figure size 400x300 with 1 Axes>"
      ]
     },
     "metadata": {},
     "output_type": "display_data"
    },
    {
     "data": {
      "image/png": "[encoded data removed]",
      "text/plain": [
       "<Figure size 400x300 with 1 Axes>"
      ]
     },
     "metadata": {},
     "output_type": "display_data"
    },
    {
     "data": {
      "image/png": "[encoded data removed]",
      "text/plain": [
       "<Figure size 400x300 with 1 Axes>"
      ]
     },
     "metadata": {},
     "output_type": "display_data"
    },
    {
     "data": {
      "image/png": "[encoded data removed]",
      "text/plain": [
       "<Figure size 400x300 with 1 Axes>"
      ]
     },
     "metadata": {},
     "output_type": "display_data"
    },
    {
     "data": {
      "image/png": "[encoded data removed]",
      "text/plain": [
       "<Figure size 400x300 with 1 Axes>"
      ]
     },
     "metadata": {},
     "output_type": "display_data"
    },
    {
     "data": {
      "image/png": "[encoded data removed]",
      "text/plain": [
       "<Figure size 400x300 with 1 Axes>"
      ]
     },
     "metadata": {},
     "output_type": "display_data"
    },
    {
     "data": {
      "image/png": "[encoded data removed]",
      "text/plain": [
       "<Figure size 400x300 with 1 Axes>"
      ]
     },
     "metadata": {},
     "output_type": "display_data"
    }
   ],
   "source": [
    "# Visualizing numerical features for outliers\n",
    "numerical_features = df.select_dtypes(include=['float64', 'int64']).columns\n",
    "\n",
    "for feature in numerical_features:\n",
    "    plt.figure(figsize=(4, 3))\n",
    "    sns.boxplot(df[feature])\n",
    "    plt.title(f'Boxplot of {feature}')\n",
    "    plt.show()\n"
   ]
  },
  {
   "cell_type": "code",
   "execution_count": 554,
   "metadata": {},
   "outputs": [
    {
     "name": "stdout",
     "output_type": "stream",
     "text": [
      "{'amount_tsh': 15392, 'gps_height': 8231, 'longitude': 0, 'latitude': 0, 'population': 7682, 'construction_year': 7225}\n"
     ]
    }
   ],
   "source": [
    "# Exclude irrelevant columns\n",
    "relevant_numerical_features = [feature for feature in numerical_features if feature not in ['id', 'district_code', 'region_code']]\n",
    "\n",
    "outliers_dict = {}\n",
    "\n",
    "for feature in relevant_numerical_features:\n",
    "    Q1 = df[feature].quantile(0.25)\n",
    "    Q3 = df[feature].quantile(0.75)\n",
    "    IQR = Q3 - Q1\n",
    "    lower_bound = Q1 - 1.5 * IQR\n",
    "    upper_bound = Q3 + 1.5 * IQR\n",
    "    \n",
    "    outliers = df[(df[feature] < lower_bound) | (df[feature] > upper_bound)]\n",
    "    outliers_dict[feature] = len(outliers)\n",
    "\n",
    "print(outliers_dict)\n"
   ]
  },
  {
   "cell_type": "markdown",
   "metadata": {},
   "source": [
    "**Observation:** <br>\n",
    "- amount_tsh has 11161 outliers\n",
    "- gps_height has 8231 outliers\n",
    "- population has 7682 outliers\n",
    "\n",
    "**Action:**\n",
    "- check the skewness\n",
    "- if highly skewed, apply log transformation\n"
   ]
  },
  {
   "cell_type": "code",
   "execution_count": 555,
   "metadata": {},
   "outputs": [
    {
     "name": "stdout",
     "output_type": "stream",
     "text": [
      "Skewness of amount_tsh: 58.53515544615884\n"
     ]
    }
   ],
   "source": [
    "# Check skewness of 'amount_tsh'\n",
    "skewness = df['amount_tsh'].skew()\n",
    "print(f\"Skewness of amount_tsh: {skewness}\")"
   ]
  },
  {
   "cell_type": "markdown",
   "metadata": {},
   "source": [
    "**Observation:**\n",
    "- high positive skewness representing high skewness to the right, with a long tail on the right\n",
    "\n",
    "**Action:**\n",
    "- Apply log transformation"
   ]
  },
  {
   "cell_type": "code",
   "execution_count": 556,
   "metadata": {},
   "outputs": [],
   "source": [
    "# Apply log transformation to 'amount_tsh'\n",
    "df['amount_tsh_log'] = np.log(df['amount_tsh'])\n"
   ]
  },
  {
   "cell_type": "code",
   "execution_count": 557,
   "metadata": {},
   "outputs": [
    {
     "data": {
      "image/png": "[encoded data removed]",
      "text/plain": [
       "<Figure size 500x300 with 1 Axes>"
      ]
     },
     "metadata": {},
     "output_type": "display_data"
    }
   ],
   "source": [
    "# Visualize the distribution of the transformed feature\n",
    "plt.figure(figsize=(5, 3))\n",
    "sns.histplot(df['amount_tsh_log'], kde=True)\n",
    "plt.title('Distribution of Log Transformed amount_tsh')\n",
    "plt.show()\n"
   ]
  },
  {
   "cell_type": "code",
   "execution_count": 558,
   "metadata": {},
   "outputs": [],
   "source": [
    "df.drop(columns=['amount_tsh'], inplace=True)"
   ]
  },
  {
   "cell_type": "markdown",
   "metadata": {},
   "source": [
    "### gps_height"
   ]
  },
  {
   "cell_type": "code",
   "execution_count": 559,
   "metadata": {},
   "outputs": [
    {
     "name": "stdout",
     "output_type": "stream",
     "text": [
      "Skewness of gps_height: -0.5393189981971919\n"
     ]
    }
   ],
   "source": [
    "# Check skewness of 'gps_height'\n",
    "skewness_gps = df['gps_height'].skew()\n",
    "print(f\"Skewness of gps_height: {skewness_gps}\")\n"
   ]
  },
  {
   "cell_type": "markdown",
   "metadata": {},
   "source": [
    "**Observation:**\n",
    "- low skewness, so there no strong need for transformation\n",
    "\n",
    "**Action:**\n",
    "- cap the extreme values by replacing them with a threshold value\n",
    "- lets cap the upper outliers at 99th percentile value"
   ]
  },
  {
   "cell_type": "code",
   "execution_count": 560,
   "metadata": {},
   "outputs": [],
   "source": [
    "# Define the upper bound threshold for capping\n",
    "upper_threshold = df['gps_height'].quantile(0.99)\n",
    "\n",
    "# Cap upper outliers\n",
    "df['gps_height_capped'] = df['gps_height'].apply(lambda x: upper_threshold if x > upper_threshold else x)"
   ]
  },
  {
   "cell_type": "markdown",
   "metadata": {},
   "source": [
    "### population"
   ]
  },
  {
   "cell_type": "code",
   "execution_count": 561,
   "metadata": {},
   "outputs": [
    {
     "name": "stdout",
     "output_type": "stream",
     "text": [
      "Skewness of population: 13.648134703114286\n"
     ]
    }
   ],
   "source": [
    "# Check skewness of 'population'\n",
    "skewness = df['population'].skew()\n",
    "print(f\"Skewness of population: {skewness}\")"
   ]
  },
  {
   "cell_type": "code",
   "execution_count": 562,
   "metadata": {},
   "outputs": [],
   "source": [
    "# Apply log transformation to 'population'\n",
    "df['population_log'] = np.log(df['population'])\n"
   ]
  },
  {
   "cell_type": "markdown",
   "metadata": {},
   "source": [
    "Export modifed dataset"
   ]
  },
  {
   "cell_type": "code",
   "execution_count": 565,
   "metadata": {},
   "outputs": [],
   "source": [
    "# Specify the file path where you want to save the DataFrame\n",
    "file_path = '../data/processed/modified_data.csv'\n",
    "\n",
    "# Save the DataFrame to a CSV file\n",
    "df.to_csv(file_path, index=False)"
   ]
  }
 ],
 "metadata": {
  "kernelspec": {
   "display_name": "venv",
   "language": "python",
   "name": "python3"
  },
  "language_info": {
   "codemirror_mode": {
    "name": "ipython",
    "version": 3
   },
   "file_extension": ".py",
   "mimetype": "text/x-python",
   "name": "python",
   "nbconvert_exporter": "python",
   "pygments_lexer": "ipython3",
   "version": "3.9.0"
  },
  "orig_nbformat": 4
 },
 "nbformat": 4,
 "nbformat_minor": 2
}
