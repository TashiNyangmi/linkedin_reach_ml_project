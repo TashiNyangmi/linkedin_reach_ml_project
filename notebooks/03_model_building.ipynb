{
 "cells": [
  {
   "cell_type": "code",
   "execution_count": 18,
   "metadata": {},
   "outputs": [],
   "source": [
    "import pandas as pd\n",
    "\n",
    "from sklearn.model_selection import train_test_split, GridSearchCV, cross_val_score, StratifiedKFold\n",
    "from sklearn.pipeline import Pipeline\n",
    "from sklearn.preprocessing import StandardScaler\n",
    "\n",
    "from sklearn.linear_model import LogisticRegression\n",
    "from sklearn.ensemble import RandomForestClassifier, GradientBoostingClassifier, AdaBoostClassifier\n",
    "\n",
    "from sklearn.metrics import accuracy_score, classification_report, confusion_matrix, make_scorer\n",
    "\n",
    "from xgboost import XGBClassifier\n",
    "\n",
    "import warnings\n",
    "warnings.filterwarnings(\"ignore\", category=FutureWarning)\n",
    "\n"
   ]
  },
  {
   "cell_type": "code",
   "execution_count": 5,
   "metadata": {},
   "outputs": [],
   "source": [
    "# Load the preprocessed dataset\n",
    "df_encoded = pd.read_csv('../data/processed/preprocessed_data.csv')"
   ]
  },
  {
   "cell_type": "markdown",
   "metadata": {},
   "source": [
    "### Dummy Classifier"
   ]
  },
  {
   "cell_type": "code",
   "execution_count": 6,
   "metadata": {},
   "outputs": [
    {
     "data": {
      "text/plain": [
       "status_group\n",
       "2    0.543081\n",
       "0    0.384242\n",
       "1    0.072677\n",
       "Name: proportion, dtype: float64"
      ]
     },
     "execution_count": 6,
     "metadata": {},
     "output_type": "execute_result"
    }
   ],
   "source": [
    "df_encoded['status_group'].value_counts(normalize=True)"
   ]
  },
  {
   "cell_type": "markdown",
   "metadata": {},
   "source": [
    "If a dummy classifier that always returns 1 (funcitonal, functional needs repair), it would be accurate 54.3% of the time"
   ]
  },
  {
   "cell_type": "markdown",
   "metadata": {},
   "source": [
    "## 1) Linear Models"
   ]
  },
  {
   "cell_type": "markdown",
   "metadata": {},
   "source": [
    "###  1.1) Logistic Regression"
   ]
  },
  {
   "cell_type": "code",
   "execution_count": 7,
   "metadata": {},
   "outputs": [
    {
     "name": "stdout",
     "output_type": "stream",
     "text": [
      "Accuracy: 0.8624579124579125\n",
      "\n",
      "Confusion Matrix:\n",
      " [[4061   46  458]\n",
      " [ 187  172  504]\n",
      " [ 378   61 6013]]\n",
      "\n",
      "Classification Report:\n",
      "               precision    recall  f1-score   support\n",
      "\n",
      "           0       0.88      0.89      0.88      4565\n",
      "           1       0.62      0.20      0.30       863\n",
      "           2       0.86      0.93      0.90      6452\n",
      "\n",
      "    accuracy                           0.86     11880\n",
      "   macro avg       0.79      0.67      0.69     11880\n",
      "weighted avg       0.85      0.86      0.85     11880\n",
      "\n"
     ]
    }
   ],
   "source": [
    "X = df_encoded.drop('status_group', axis=1)\n",
    "y = df_encoded['status_group']\n",
    "\n",
    "# Split the dataset into training and testing sets\n",
    "X_train, X_test, y_train, y_test = train_test_split(X, y, test_size=0.2, random_state=42, stratify = y)\n",
    "\n",
    "# Standardize the features (mean = 0, variance = 1)\n",
    "scaler = StandardScaler()\n",
    "X_train_scaled = scaler.fit_transform(X_train)\n",
    "X_test_scaled = scaler.transform(X_test)\n",
    "\n",
    "# Create and train the logistic regression model\n",
    "model = LogisticRegression(max_iter = 1000)\n",
    "model.fit(X_train_scaled, y_train)\n",
    "\n",
    "# Predict on the test set\n",
    "y_pred = model.predict(X_test_scaled)\n",
    "\n",
    "# Evaluate the model\n",
    "accuracy = accuracy_score(y_test, y_pred)\n",
    "conf_matrix = confusion_matrix(y_test, y_pred)\n",
    "class_report = classification_report(y_test, y_pred)\n",
    "\n",
    "# Print the results\n",
    "print(\"Accuracy:\", accuracy)\n",
    "print(\"\\nConfusion Matrix:\\n\", conf_matrix)\n",
    "print(\"\\nClassification Report:\\n\", class_report)\n"
   ]
  },
  {
   "cell_type": "markdown",
   "metadata": {},
   "source": [
    "**Observation**:<br>\n",
    "Predicted |   0    |    1    |    2    |<br>\n",
    "Actual <br>\n",
    "------- 0 |  4061  |   46    |   458   |<br>\n",
    "------- 1 |   187  |   172   |   504   |<br>\n",
    "------- 2 |   378  |    61   |   6013  |<br>"
   ]
  },
  {
   "cell_type": "markdown",
   "metadata": {},
   "source": [
    "---"
   ]
  },
  {
   "cell_type": "markdown",
   "metadata": {},
   "source": [
    "### Cross Validation (Logistic Regression)"
   ]
  },
  {
   "cell_type": "code",
   "execution_count": 17,
   "metadata": {},
   "outputs": [
    {
     "name": "stdout",
     "output_type": "stream",
     "text": [
      "Cross-Validation Scores: [0.85585017 0.85721801 0.85900673 0.86069024 0.86058502]\n",
      "Mean Accuracy: 0.8586700336700337\n"
     ]
    }
   ],
   "source": [
    "# Define the logistic regression model with desired hyperparameters\n",
    "model = LogisticRegression(max_iter=1000)\n",
    "\n",
    "# Define the cross-validation method, e.g., Stratified K-Fold with 5 folds\n",
    "cv_method = StratifiedKFold(n_splits=5, shuffle=True, random_state=42)\n",
    "\n",
    "# Define the scoring metric you want to use, e.g., accuracy\n",
    "scoring_metric = make_scorer(accuracy_score)\n",
    "\n",
    "# Perform cross-validation and get the accuracy scores\n",
    "cv_scores = cross_val_score(model, X_train_scaled, y_train, cv=cv_method, scoring=scoring_metric)\n",
    "\n",
    "# Print the accuracy scores for each fold\n",
    "print(\"Cross-Validation Scores:\", cv_scores)\n",
    "\n",
    "# Calculate the mean accuracy across all folds\n",
    "mean_accuracy = cv_scores.mean()\n",
    "print(\"Mean Accuracy:\", mean_accuracy)\n"
   ]
  },
  {
   "cell_type": "markdown",
   "metadata": {},
   "source": [
    "**Observation:**\n",
    "- CV scores are consistent\n",
    "- Mean accuracy looks fair\n",
    "- No significant difference between the training accuracy (0.8624) and CV mean accuracy (0.8587)"
   ]
  },
  {
   "cell_type": "markdown",
   "metadata": {},
   "source": [
    "### HyperParameter Tuning (Logistic Regression)"
   ]
  },
  {
   "cell_type": "code",
   "execution_count": null,
   "metadata": {},
   "outputs": [],
   "source": [
    "preprocessing = Pipeline([\n",
    "    ('scaler', StandardScaler()),\n",
    "    # You can add other preprocessing steps here, if needed\n",
    "])\n",
    "model = LogisticRegression()"
   ]
  },
  {
   "cell_type": "code",
   "execution_count": 20,
   "metadata": {},
   "outputs": [],
   "source": [
    "# Define the hyperparameters and their possible values to search:\n",
    "param_grid = {\n",
    "    'penalty': ['l1', 'l2'],  # Regularization penalty (L1 or L2)\n",
    "    'C': [0.001, 0.01, 0.1, 1, 10, 100, 1000],  # Inverse of regularization strength\n",
    "    'solver': ['liblinear', 'lbfgs', 'saga'],  # Optimization algorithm\n",
    "    'max_iter': [100, 500, 1000],  # Maximum number of iterations for optimization\n",
    "}"
   ]
  },
  {
   "cell_type": "code",
   "execution_count": 21,
   "metadata": {},
   "outputs": [],
   "source": [
    "grid_search = GridSearchCV(\n",
    "    estimator=Pipeline([\n",
    "        ('preprocessing', preprocessing),\n",
    "        ('model', model)\n",
    "    ]),\n",
    "    param_grid=param_grid,\n",
    "    scoring='accuracy',  # Use the accuracy metric for evaluation\n",
    "    cv=cv_method,         # Use the same cross-validation method as before\n",
    "    verbose=1,            # Increase verbosity for progress updates\n",
    "    n_jobs=-1             # Use all available CPU cores\n",
    ")\n"
   ]
  },
  {
   "cell_type": "code",
   "execution_count": 22,
   "metadata": {},
   "outputs": [
    {
     "name": "stdout",
     "output_type": "stream",
     "text": [
      "Fitting 5 folds for each of 126 candidates, totalling 630 fits\n"
     ]
    }
   ],
   "source": [
    "grid_search.fit(X_train_scaled, y_train)"
   ]
  },
  {
   "cell_type": "code",
   "execution_count": null,
   "metadata": {},
   "outputs": [],
   "source": [
    "best_params = grid_search.best_params_\n",
    "best_accuracy = grid_search.best_score_\n",
    "\n",
    "print(\"Best Hyperparameters:\", best_params)\n",
    "print(\"Best Accuracy:\", best_accuracy)"
   ]
  },
  {
   "cell_type": "markdown",
   "metadata": {},
   "source": [
    "---"
   ]
  },
  {
   "cell_type": "markdown",
   "metadata": {},
   "source": [
    "## 2) Ensemble Models"
   ]
  },
  {
   "cell_type": "markdown",
   "metadata": {},
   "source": [
    "### 2.1) Random Forest"
   ]
  },
  {
   "cell_type": "code",
   "execution_count": 8,
   "metadata": {},
   "outputs": [
    {
     "name": "stdout",
     "output_type": "stream",
     "text": [
      "Accuracy: 0.9651515151515152\n",
      "\n",
      "Confusion Matrix:\n",
      " [[4453   12  100]\n",
      " [  37  659  167]\n",
      " [  69   29 6354]]\n",
      "\n",
      "Classification Report:\n",
      "               precision    recall  f1-score   support\n",
      "\n",
      "           0       0.98      0.98      0.98      4565\n",
      "           1       0.94      0.76      0.84       863\n",
      "           2       0.96      0.98      0.97      6452\n",
      "\n",
      "    accuracy                           0.97     11880\n",
      "   macro avg       0.96      0.91      0.93     11880\n",
      "weighted avg       0.96      0.97      0.96     11880\n",
      "\n"
     ]
    }
   ],
   "source": [
    "# Initialize the Random Forest classifier\n",
    "rf_classifier = RandomForestClassifier(n_estimators=100, random_state=42)\n",
    "\n",
    "# Fit the classifier to the training data\n",
    "rf_classifier.fit(X_train, y_train)\n",
    "\n",
    "# Make predictions on the test data\n",
    "y_pred = rf_classifier.predict(X_test)\n",
    "\n",
    "# Evaluate the model\n",
    "accuracy = accuracy_score(y_test, y_pred)\n",
    "confusion = confusion_matrix(y_test, y_pred)\n",
    "classification_report_str = classification_report(y_test, y_pred)\n",
    "\n",
    "# Print the results\n",
    "print(\"Accuracy:\", accuracy)\n",
    "print(\"\\nConfusion Matrix:\\n\", confusion)\n",
    "print(\"\\nClassification Report:\\n\", classification_report_str)\n"
   ]
  },
  {
   "cell_type": "markdown",
   "metadata": {},
   "source": [
    "### Cross Validation (Random Forest Model)"
   ]
  },
  {
   "cell_type": "code",
   "execution_count": null,
   "metadata": {},
   "outputs": [],
   "source": [
    "# Define the Random Forest model\n",
    "rf_model = RandomForestClassifier(random_state=42)\n",
    "\n",
    "# Define the cross-validation method (Stratified K-Fold with 5 folds)\n",
    "cv_method = StratifiedKFold(n_splits=5, shuffle=True, random_state=42)\n",
    "\n",
    "# Define the scoring metric (accuracy)\n",
    "scoring_metric = make_scorer(accuracy_score)\n",
    "\n",
    "# Perform cross-validation and get the accuracy scores\n",
    "cv_scores_rf = cross_val_score(rf_model, X_train, y_train, cv=cv_method, scoring=scoring_metric)\n",
    "\n",
    "# Print the accuracy scores for each fold\n",
    "print(\"Cross-Validation Scores (Random Forest):\", cv_scores_rf)\n",
    "\n",
    "# Calculate the mean accuracy across all folds\n",
    "mean_accuracy_rf = cv_scores_rf.mean()\n",
    "print(\"Mean Accuracy (Random Forest):\", mean_accuracy_rf)\n"
   ]
  },
  {
   "cell_type": "markdown",
   "metadata": {},
   "source": [
    "### Hyperparameter Tuning (Random Forest)"
   ]
  },
  {
   "cell_type": "code",
   "execution_count": null,
   "metadata": {},
   "outputs": [],
   "source": [
    "# Define the parameter grid with hyperparameters to search\n",
    "param_grid_rf = {\n",
    "    'n_estimators': [100, 200, 300],\n",
    "    'max_depth': [None, 10, 20, 30],\n",
    "    'min_samples_split': [2, 5, 10],\n",
    "    'min_samples_leaf': [1, 2, 4],\n",
    "    'max_features': ['auto', 'sqrt', 'log2']\n",
    "}\n",
    "\n",
    "# Create a Random Forest model\n",
    "rf_model = RandomForestClassifier(random_state=42)\n",
    "\n",
    "# Create the Grid Search object\n",
    "grid_search_rf = GridSearchCV(estimator=rf_model, param_grid=param_grid_rf, \n",
    "                               scoring='accuracy', cv=cv_method, n_jobs=-1)\n",
    "\n",
    "# Perform the Grid Search\n",
    "grid_search_rf.fit(X_train, y_train)\n",
    "\n",
    "# Get the best hyperparameters from the search\n",
    "best_params_rf = grid_search_rf.best_params_\n",
    "print(\"Best Hyperparameters (Random Forest):\", best_params_rf)\n",
    "\n",
    "# Get the best cross-validated accuracy score\n",
    "best_score_rf = grid_search_rf.best_score_\n",
    "print(\"Best Cross-Validated Accuracy Score (Random Forest):\", best_score_rf)"
   ]
  },
  {
   "cell_type": "markdown",
   "metadata": {},
   "source": [
    "---"
   ]
  },
  {
   "cell_type": "markdown",
   "metadata": {},
   "source": [
    "### 2.2) Gradient Boosting Classifier"
   ]
  },
  {
   "cell_type": "code",
   "execution_count": 9,
   "metadata": {},
   "outputs": [
    {
     "name": "stdout",
     "output_type": "stream",
     "text": [
      "Accuracy: 0.9741582491582491\n",
      "Confusion Matrix:\n",
      " [[4442   18  105]\n",
      " [  23  762   78]\n",
      " [  68   15 6369]]\n",
      "Classification Report:\n",
      "               precision    recall  f1-score   support\n",
      "\n",
      "           0       0.98      0.97      0.98      4565\n",
      "           1       0.96      0.88      0.92       863\n",
      "           2       0.97      0.99      0.98      6452\n",
      "\n",
      "    accuracy                           0.97     11880\n",
      "   macro avg       0.97      0.95      0.96     11880\n",
      "weighted avg       0.97      0.97      0.97     11880\n",
      "\n"
     ]
    }
   ],
   "source": [
    "# # Create an instance of the Gradient Boosting Classifier\n",
    "# gb_classifier = GradientBoostingClassifier(n_estimators=100, random_state=42)\n",
    "\n",
    "# # Fit the model to your training data\n",
    "# gb_classifier.fit(X_train, y_train)\n",
    "\n",
    "# # Make predictions on your test data\n",
    "# y_pred = gb_classifier.predict(X_test)\n",
    "\n",
    "# # Evaluate the model's performance\n",
    "# from sklearn.metrics import accuracy_score, classification_report, confusion_matrix\n",
    "# accuracy = accuracy_score(y_test, y_pred)\n",
    "# conf_matrix = confusion_matrix(y_test, y_pred)\n",
    "# classification_rep = classification_report(y_test, y_pred)\n",
    "\n",
    "# # Print the results\n",
    "# print(\"Accuracy:\", accuracy)\n",
    "# print(\"Confusion Matrix:\\n\", conf_matrix)\n",
    "# print(\"Classification Report:\\n\", classification_rep)\n"
   ]
  },
  {
   "cell_type": "markdown",
   "metadata": {},
   "source": [
    "Lets try a few more ensembles"
   ]
  },
  {
   "cell_type": "code",
   "execution_count": 12,
   "metadata": {},
   "outputs": [
    {
     "name": "stdout",
     "output_type": "stream",
     "text": [
      "\n",
      "AdaBoostClassifier Results:\n",
      "Accuracy: 0.9606902356902357\n",
      "Confusion Matrix:\n",
      " [[4411   22  132]\n",
      " [  66  700   97]\n",
      " [ 122   28 6302]]\n",
      "Classification Report:\n",
      "               precision    recall  f1-score   support\n",
      "\n",
      "           0       0.96      0.97      0.96      4565\n",
      "           1       0.93      0.81      0.87       863\n",
      "           2       0.96      0.98      0.97      6452\n",
      "\n",
      "    accuracy                           0.96     11880\n",
      "   macro avg       0.95      0.92      0.93     11880\n",
      "weighted avg       0.96      0.96      0.96     11880\n",
      "\n"
     ]
    }
   ],
   "source": [
    "# AdaBoostClassifier\n",
    "adaboost_model = AdaBoostClassifier(random_state=42)\n",
    "adaboost_model.fit(X_train, y_train)\n",
    "adaboost_predictions = adaboost_model.predict(X_test)\n",
    "\n",
    "# Evaluate AdaBoostClassifier\n",
    "print(\"\\nAdaBoostClassifier Results:\")\n",
    "print(\"Accuracy:\", accuracy_score(y_test, adaboost_predictions))\n",
    "print(\"Confusion Matrix:\\n\", confusion_matrix(y_test, adaboost_predictions))\n",
    "print(\"Classification Report:\\n\", classification_report(y_test, adaboost_predictions))"
   ]
  },
  {
   "cell_type": "code",
   "execution_count": 15,
   "metadata": {},
   "outputs": [
    {
     "name": "stdout",
     "output_type": "stream",
     "text": [
      "\n",
      "XGBClassifier Results:\n",
      "Accuracy: 0.9792929292929293\n",
      "Confusion Matrix:\n",
      " [[4474   10   81]\n",
      " [  14  776   73]\n",
      " [  50   18 6384]]\n",
      "Classification Report:\n",
      "               precision    recall  f1-score   support\n",
      "\n",
      "           0       0.99      0.98      0.98      4565\n",
      "           1       0.97      0.90      0.93       863\n",
      "           2       0.98      0.99      0.98      6452\n",
      "\n",
      "    accuracy                           0.98     11880\n",
      "   macro avg       0.98      0.96      0.97     11880\n",
      "weighted avg       0.98      0.98      0.98     11880\n",
      "\n"
     ]
    }
   ],
   "source": [
    "# XGBClassifier\n",
    "xgb_model = XGBClassifier(random_state=42)\n",
    "xgb_model.fit(X_train, y_train)\n",
    "xgb_predictions = xgb_model.predict(X_test)\n",
    "\n",
    "# Evaluate XGBClassifier\n",
    "print(\"\\nXGBClassifier Results:\")\n",
    "print(\"Accuracy:\", accuracy_score(y_test, xgb_predictions))\n",
    "print(\"Confusion Matrix:\\n\", confusion_matrix(y_test, xgb_predictions))\n",
    "print(\"Classification Report:\\n\", classification_report(y_test, xgb_predictions))"
   ]
  }
 ],
 "metadata": {
  "kernelspec": {
   "display_name": "venv",
   "language": "python",
   "name": "python3"
  },
  "language_info": {
   "codemirror_mode": {
    "name": "ipython",
    "version": 3
   },
   "file_extension": ".py",
   "mimetype": "text/x-python",
   "name": "python",
   "nbconvert_exporter": "python",
   "pygments_lexer": "ipython3",
   "version": "3.9.0"
  },
  "orig_nbformat": 4
 },
 "nbformat": 4,
 "nbformat_minor": 2
}
