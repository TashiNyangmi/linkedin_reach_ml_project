{
 "cells": [
  {
   "cell_type": "markdown",
   "metadata": {},
   "source": [
    "### Notebook 1: Exploratory Data Analysis\n",
    "**Author:<br>\n",
    "Tashi T. Gurung**<br>\n",
    "**hseb.tashi@gmail.com**"
   ]
  },
  {
   "cell_type": "markdown",
   "metadata": {},
   "source": [
    "### Project Objective\n",
    "\n",
    "The primary aim of this project is to predict and understand the factors contributing to the failure of water points located throughout Tanzania.\n",
    "\n",
    "### Background\n",
    "\n",
    "Tanzania faces a critical challenge with nearly 50% of its population lacking access to safe drinking water. Among the various sources of water, the country heavily relies on approximately 60,000 water points, predominantly pumps. These water points are spread across diverse geographic regions, making data collection on their conditions a formidable task. Despite efforts involving local agencies and mobile-based crowd-sourcing initiatives, obtaining reliable data remains elusive.\n",
    "\n",
    "The absence of high-quality data poses several issues, particularly for stakeholders like the Tanzanian Government, notably the Ministry of Water. Consequences encompass increased maintenance expenditures and the myriad of challenges faced by communities when their water access is compromised.\n",
    "\n",
    "While the development of improved data collection infrastructure is a long-term goal, this project aspires to deliver valuable insights through predictive models, analyses, and uncovering the determinants of water point failure. Our objective is not solely limited to forecasting failures but also to shed light on the underlying causes. These insights will prove instrumental in optimizing resource allocation to maximize water access for individuals and communities. In the long run, this project will aid stakeholders in project planning and inform local, regional, and national-level policy formulation.\n"
   ]
  },
  {
   "cell_type": "markdown",
   "metadata": {},
   "source": [
    "---"
   ]
  },
  {
   "cell_type": "markdown",
   "metadata": {},
   "source": [
    "### Import Libraries"
   ]
  },
  {
   "cell_type": "code",
   "execution_count": 7,
   "metadata": {},
   "outputs": [],
   "source": [
    "import pandas as pd\n",
    "import matplotlib.pyplot as plt\n",
    "\n",
    "import json\n",
    "\n",
    "import warnings\n",
    "# Filter out FutureWarnings\n",
    "warnings.filterwarnings(\"ignore\", category=FutureWarning)"
   ]
  },
  {
   "cell_type": "markdown",
   "metadata": {},
   "source": [
    "### Import Datasets"
   ]
  },
  {
   "cell_type": "code",
   "execution_count": 8,
   "metadata": {},
   "outputs": [],
   "source": [
    "raw_data_folder_location = '../data/raw/'\n",
    "\n",
    "# import features\n",
    "independent_variables_df = pd.read_csv(f'{raw_data_folder_location}independent_variables.csv')\n",
    "\n",
    "# import labels (target-variables) for features\n",
    "dependent_variables_df = pd.read_csv(f'{raw_data_folder_location}dependent_variables.csv')\n",
    "\n",
    "# merge features and it's labels (target variable)\n",
    "df = pd.merge(independent_variables_df, dependent_variables_df)\n"
   ]
  },
  {
   "cell_type": "markdown",
   "metadata": {},
   "source": [
    "---"
   ]
  },
  {
   "cell_type": "markdown",
   "metadata": {},
   "source": [
    "## 1. Dependent Variable"
   ]
  },
  {
   "cell_type": "code",
   "execution_count": 9,
   "metadata": {},
   "outputs": [
    {
     "data": {
      "image/png": "[encoded data removed]",
      "text/plain": [
       "<Figure size 300x300 with 1 Axes>"
      ]
     },
     "metadata": {},
     "output_type": "display_data"
    }
   ],
   "source": [
    "tgt_var_counts = df['status_group'].value_counts()\n",
    "\n",
    "# Create a pie chart\n",
    "plt.figure(figsize=(3, 3))\n",
    "plt.pie(tgt_var_counts.values, labels=tgt_var_counts.index, autopct='%1.1f%%', startangle=90)\n",
    "plt.axis('equal')  # Equal aspect ratio ensures that pie is drawn as a circle.\n",
    "plt.title('Distribution of Water Pump Status')\n",
    "plt.show()\n"
   ]
  },
  {
   "cell_type": "markdown",
   "metadata": {},
   "source": [
    "**Observation:** <br>\n",
    "- imbalanced distribution"
   ]
  },
  {
   "cell_type": "markdown",
   "metadata": {},
   "source": [
    "---"
   ]
  },
  {
   "cell_type": "markdown",
   "metadata": {},
   "source": [
    "## 2. Independent Variables"
   ]
  },
  {
   "cell_type": "markdown",
   "metadata": {},
   "source": [
    "### 2.1) Numeric Independent Variables"
   ]
  },
  {
   "cell_type": "code",
   "execution_count": 10,
   "metadata": {},
   "outputs": [
    {
     "data": {
      "text/plain": [
       "district_code           20\n",
       "region_code             27\n",
       "construction_year       55\n",
       "num_private             65\n",
       "amount_tsh              98\n",
       "population            1049\n",
       "gps_height            2428\n",
       "longitude            57516\n",
       "latitude             57517\n",
       "id                   59400\n",
       "dtype: int64"
      ]
     },
     "execution_count": 10,
     "metadata": {},
     "output_type": "execute_result"
    }
   ],
   "source": [
    "df.drop(columns = ['status_group'])\\\n",
    "    .select_dtypes(include=['int64', 'float64'])\\\n",
    "        .nunique()\\\n",
    "            .sort_values() "
   ]
  },
  {
   "cell_type": "markdown",
   "metadata": {},
   "source": [
    "**Observation 1:**\n",
    "- There seems to be variables misclassified as numeric, when infact they should be categorical\n",
    "- - *district_code*, *region_code*\n",
    "- We are unsure what the variable: *num_private* means. Data Dictionary doesn't provide any information\n",
    "- There are 59600 unique values for variable: *id*. We have the same amount of observations.\n",
    "\n",
    "**Action 1:**\n",
    "- Change data type of variables: *district_code* and *region_code* to categorical\n",
    "- Look more into the variable: *num_private*\n",
    "- drop variable: *id*"
   ]
  },
  {
   "cell_type": "markdown",
   "metadata": {},
   "source": [
    "---"
   ]
  },
  {
   "cell_type": "markdown",
   "metadata": {},
   "source": [
    "### 2.2) String/Categorical/Object independent variables"
   ]
  },
  {
   "cell_type": "code",
   "execution_count": 11,
   "metadata": {},
   "outputs": [
    {
     "data": {
      "text/plain": [
       "recorded_by                  1\n",
       "public_meeting               2\n",
       "permit                       2\n",
       "source_class                 3\n",
       "management_group             5\n",
       "quantity_group               5\n",
       "quantity                     5\n",
       "waterpoint_type_group        6\n",
       "quality_group                6\n",
       "payment_type                 7\n",
       "source_type                  7\n",
       "waterpoint_type              7\n",
       "extraction_type_class        7\n",
       "payment                      7\n",
       "water_quality                8\n",
       "basin                        9\n",
       "source                      10\n",
       "scheme_management           11\n",
       "management                  12\n",
       "extraction_type_group       13\n",
       "extraction_type             18\n",
       "region                      21\n",
       "lga                        125\n",
       "date_recorded              356\n",
       "funder                    1896\n",
       "ward                      2092\n",
       "installer                 2145\n",
       "scheme_name               2695\n",
       "subvillage               19287\n",
       "wpt_name                 37399\n",
       "dtype: int64"
      ]
     },
     "execution_count": 11,
     "metadata": {},
     "output_type": "execute_result"
    }
   ],
   "source": [
    "df.drop(columns = ['status_group'])\\\n",
    "    .select_dtypes(include=['object'])\\\n",
    "        .nunique()\\\n",
    "            .sort_values()"
   ]
  },
  {
   "cell_type": "markdown",
   "metadata": {},
   "source": [
    "**Observation 2:**\n",
    "- there is only 1 unique value for variable: *recorded_by*\n",
    "- variables: *permit* and *public_meeting* seem to be boolean\n",
    "- all of the following are candidates to be converted into categorical data type:\n",
    "*source_class*, *management_group*, *quantity_group*, *quantity*, *waterpoint_type_group*, *quality_group*, *source_type*, *payment_type*, *waterpoint_type*, *extraction_type_class*, *payment*, *water_quality*, *basin*, *source*, *scheme_management*, *management*, *extraction_type_group*, *extraction_type*, *region*, *lga*, *funder*, *ward*, *installer*, *scheme_name*\n",
    "\n",
    "**Action: 2**\n",
    "- drop variable: 'recorded_by'\n",
    "- change data type for variables: *permit* and *public_meeting* to boolean\n",
    "- look into the following and convert the appropriate variables to categorical data type:\n",
    "*source_class*, *management_group*, *quantity_group*, *quantity*, *waterpoint_type_group*, *quality_group*, *source_type*, *payment_type*, *waterpoint_type*, *extraction_type_class*, *payment*, *water_quality*, *basin*, *source*, *scheme_management*, *management*, *extraction_type_group*, *extraction_type*, *region*, *lga*, *funder*, *ward*, *installer*, *scheme_name*"
   ]
  },
  {
   "cell_type": "markdown",
   "metadata": {},
   "source": [
    "---"
   ]
  },
  {
   "cell_type": "markdown",
   "metadata": {},
   "source": [
    "### Let us take the above actions before moving on with further EDA"
   ]
  },
  {
   "cell_type": "markdown",
   "metadata": {},
   "source": [
    "**Action 1:**\n",
    "- Change data type of variables: *district_code* and *region_code* to categorical\n",
    "- Look more into the variable: *num_private*\n",
    "- drop variable: *id*"
   ]
  },
  {
   "cell_type": "code",
   "execution_count": 12,
   "metadata": {},
   "outputs": [],
   "source": [
    "df['district_code'] = df['district_code'].astype('category')\n",
    "df['region_code'] = df['region_code'].astype('category')"
   ]
  },
  {
   "cell_type": "code",
   "execution_count": 13,
   "metadata": {},
   "outputs": [
    {
     "data": {
      "text/plain": [
       "num_private\n",
       "0       0.987256\n",
       "6       0.001364\n",
       "1       0.001229\n",
       "5       0.000774\n",
       "8       0.000774\n",
       "          ...   \n",
       "42      0.000017\n",
       "23      0.000017\n",
       "136     0.000017\n",
       "698     0.000017\n",
       "1402    0.000017\n",
       "Name: proportion, Length: 65, dtype: float64"
      ]
     },
     "execution_count": 13,
     "metadata": {},
     "output_type": "execute_result"
    }
   ],
   "source": [
    "df['num_private'].value_counts(normalize=True)"
   ]
  },
  {
   "cell_type": "markdown",
   "metadata": {},
   "source": [
    "**Observation 1.1:**\n",
    "- 98.7% of the data in num_private is 0\n",
    "\n",
    "**Options 1.1:**\n",
    "- We could look more into the relationship of *num_private* with the target variable\n",
    "- Given the lack of information in data dictionary on variable *num_private*, and with 98.7% of its values 0, we can drop it\n",
    "\n",
    "**Action 1.1:**\n",
    "- drop variable: *num_private*"
   ]
  },
  {
   "cell_type": "code",
   "execution_count": 14,
   "metadata": {},
   "outputs": [],
   "source": [
    "df.drop(columns = ['num_private', 'id', 'recorded_by'], inplace = True)"
   ]
  },
  {
   "cell_type": "markdown",
   "metadata": {},
   "source": [
    "\n",
    "**Action: 2**\n",
    "- drop variable: 'recorded_by'\n",
    "- change data type for variables: *permit* and *public_meeting* to boolean\n",
    "- look into the following and convert the appropriate variables to categorical data type:\n",
    "*source_class*, *management_group*, *quantity_group*, *quantity*, *waterpoint_type_group*, *quality_group*, *source_type*, *payment_type*, *waterpoint_type*, *extraction_type_class*, *payment*, *water_quality*, *basin*, *source*, *scheme_management*, *management*, *extraction_type_group*, *extraction_type*, *region*, *lga*, *funder*, *ward*, *installer*, *scheme_name*"
   ]
  },
  {
   "cell_type": "code",
   "execution_count": 15,
   "metadata": {},
   "outputs": [],
   "source": [
    "# df['permit'] = df['permit'].astype('boolean')\n",
    "# df['public_meeting'] = df['public_meeting'].astype('boolean')\n",
    "\n",
    "# let us refrain from changing these to boolean, since it might complicate dealing with the missing values later on"
   ]
  },
  {
   "cell_type": "code",
   "execution_count": 16,
   "metadata": {},
   "outputs": [],
   "source": [
    "# List of column names to convert to 'category'\n",
    "# also include the target variable: status_group\n",
    "columns_to_convert = df[['source_class', 'management_group', \\\n",
    "    'quantity_group', 'quantity', 'waterpoint_type_group', 'quality_group',\\\n",
    "        'source_type', 'payment_type', 'waterpoint_type', 'extraction_type_class',\\\n",
    "              'payment', 'water_quality', 'basin', 'source', 'scheme_management', 'management',\\\n",
    "                    'extraction_type_group', 'extraction_type', 'region', 'lga', 'funder', 'ward',\\\n",
    "                        'installer', 'scheme_name', 'status_group']]\n",
    "\n",
    "for column in columns_to_convert:\n",
    "    df[column] = df[column].astype('category')"
   ]
  },
  {
   "cell_type": "markdown",
   "metadata": {},
   "source": [
    "**All actions above taken**"
   ]
  },
  {
   "cell_type": "markdown",
   "metadata": {},
   "source": [
    "---"
   ]
  },
  {
   "cell_type": "markdown",
   "metadata": {},
   "source": [
    "### Export datatypes as strings into a json file"
   ]
  },
  {
   "cell_type": "code",
   "execution_count": 17,
   "metadata": {},
   "outputs": [],
   "source": [
    "data_types_str = {col: str(dtype) for col, dtype in df.dtypes.items()}\n",
    "\n",
    "with open('../data/processed/data_types.json', 'w') as f:\n",
    "    json.dump(data_types_str, f)"
   ]
  },
  {
   "cell_type": "markdown",
   "metadata": {},
   "source": [
    "### Export Dataset"
   ]
  },
  {
   "cell_type": "code",
   "execution_count": 18,
   "metadata": {},
   "outputs": [],
   "source": [
    "df.to_csv('../data/processed/post_eda_data.csv', index = False)"
   ]
  },
  {
   "cell_type": "markdown",
   "metadata": {},
   "source": [
    "---"
   ]
  },
  {
   "cell_type": "markdown",
   "metadata": {},
   "source": [
    "## Summary\n",
    "\n",
    "### Actions Taken:\n",
    "- columns dropped:\n",
    "- datatype changed to boolen:\n",
    "- datatype changed to category: "
   ]
  }
 ],
 "metadata": {
  "kernelspec": {
   "display_name": "venv",
   "language": "python",
   "name": "python3"
  },
  "language_info": {
   "codemirror_mode": {
    "name": "ipython",
    "version": 3
   },
   "file_extension": ".py",
   "mimetype": "text/x-python",
   "name": "python",
   "nbconvert_exporter": "python",
   "pygments_lexer": "ipython3",
   "version": "3.9.0"
  },
  "orig_nbformat": 4
 },
 "nbformat": 4,
 "nbformat_minor": 2
}
