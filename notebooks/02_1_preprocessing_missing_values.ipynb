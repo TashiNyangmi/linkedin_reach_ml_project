{
 "cells": [
  {
   "cell_type": "markdown",
   "metadata": {},
   "source": [
    "### Notebook 2.1: Preprocessing - Missing Values\n",
    "**Author:<br>\n",
    "Tashi T. Gurung**<br>\n",
    "**hseb.tashi@gmail.com**"
   ]
  },
  {
   "cell_type": "markdown",
   "metadata": {},
   "source": [
    "### Project Objective\n",
    "\n",
    "The primary aim of this project is to predict and understand the factors contributing to the failure of water points located throughout Tanzania.\n",
    "\n",
    "### Background\n",
    "\n",
    "Tanzania faces a critical challenge with nearly 50% of its population lacking access to safe drinking water. Among the various sources of water, the country heavily relies on approximately 60,000 water points, predominantly pumps. These water points are spread across diverse geographic regions, making data collection on their conditions a formidable task. Despite efforts involving local agencies and mobile-based crowd-sourcing initiatives, obtaining reliable data remains elusive.\n",
    "\n",
    "The absence of high-quality data poses several issues, particularly for stakeholders like the Tanzanian Government, notably the Ministry of Water. Consequences encompass increased maintenance expenditures and the myriad of challenges faced by communities when their water access is compromised.\n",
    "\n",
    "While the development of improved data collection infrastructure is a long-term goal, this project aspires to deliver valuable insights through predictive models, analyses, and uncovering the determinants of water point failure. Our objective is not solely limited to forecasting failures but also to shed light on the underlying causes. These insights will prove instrumental in optimizing resource allocation to maximize water access for individuals and communities. In the long run, this project will aid stakeholders in project planning and inform local, regional, and national-level policy formulation.\n"
   ]
  },
  {
   "cell_type": "markdown",
   "metadata": {},
   "source": [
    "---"
   ]
  },
  {
   "cell_type": "markdown",
   "metadata": {},
   "source": [
    "### Import Libraries"
   ]
  },
  {
   "cell_type": "code",
   "execution_count": 27,
   "metadata": {},
   "outputs": [],
   "source": [
    "import pandas as pd\n",
    "import numpy as np\n",
    "import matplotlib.pyplot as plt\n",
    "import seaborn as sns\n",
    "import json\n",
    "import warnings\n",
    "\n",
    "# Filter out FutureWarnings\n",
    "warnings.filterwarnings(\"ignore\", category=FutureWarning)"
   ]
  },
  {
   "cell_type": "code",
   "execution_count": 28,
   "metadata": {},
   "outputs": [],
   "source": [
    "# import json file with desired data type information \n",
    "json_file_path = '../data/processed/data_types.json'\n",
    "\n",
    "# Read and load the JSON file into a dictionary\n",
    "with open(json_file_path, 'r') as json_file:\n",
    "    data_types_dict = json.load(json_file)"
   ]
  },
  {
   "cell_type": "markdown",
   "metadata": {},
   "source": [
    "### Import Datasets"
   ]
  },
  {
   "cell_type": "code",
   "execution_count": 29,
   "metadata": {},
   "outputs": [
    {
     "data": {
      "text/html": [
       "<div>\n",
       "<style scoped>\n",
       "    .dataframe tbody tr th:only-of-type {\n",
       "        vertical-align: middle;\n",
       "    }\n",
       "\n",
       "    .dataframe tbody tr th {\n",
       "        vertical-align: top;\n",
       "    }\n",
       "\n",
       "    .dataframe thead th {\n",
       "        text-align: right;\n",
       "    }\n",
       "</style>\n",
       "<table border=\"1\" class=\"dataframe\">\n",
       "  <thead>\n",
       "    <tr style=\"text-align: right;\">\n",
       "      <th></th>\n",
       "      <th>amount_tsh</th>\n",
       "      <th>date_recorded</th>\n",
       "      <th>funder</th>\n",
       "      <th>gps_height</th>\n",
       "      <th>installer</th>\n",
       "      <th>longitude</th>\n",
       "      <th>latitude</th>\n",
       "      <th>wpt_name</th>\n",
       "      <th>basin</th>\n",
       "      <th>subvillage</th>\n",
       "      <th>...</th>\n",
       "      <th>water_quality</th>\n",
       "      <th>quality_group</th>\n",
       "      <th>quantity</th>\n",
       "      <th>quantity_group</th>\n",
       "      <th>source</th>\n",
       "      <th>source_type</th>\n",
       "      <th>source_class</th>\n",
       "      <th>waterpoint_type</th>\n",
       "      <th>waterpoint_type_group</th>\n",
       "      <th>status_group</th>\n",
       "    </tr>\n",
       "  </thead>\n",
       "  <tbody>\n",
       "    <tr>\n",
       "      <th>0</th>\n",
       "      <td>6000.0</td>\n",
       "      <td>2011-03-14</td>\n",
       "      <td>Roman</td>\n",
       "      <td>1390</td>\n",
       "      <td>Roman</td>\n",
       "      <td>34.938093</td>\n",
       "      <td>-9.856322</td>\n",
       "      <td>none</td>\n",
       "      <td>Lake Nyasa</td>\n",
       "      <td>Mnyusi B</td>\n",
       "      <td>...</td>\n",
       "      <td>soft</td>\n",
       "      <td>good</td>\n",
       "      <td>enough</td>\n",
       "      <td>enough</td>\n",
       "      <td>spring</td>\n",
       "      <td>spring</td>\n",
       "      <td>groundwater</td>\n",
       "      <td>communal standpipe</td>\n",
       "      <td>communal standpipe</td>\n",
       "      <td>functional</td>\n",
       "    </tr>\n",
       "    <tr>\n",
       "      <th>1</th>\n",
       "      <td>0.0</td>\n",
       "      <td>2013-03-06</td>\n",
       "      <td>Grumeti</td>\n",
       "      <td>1399</td>\n",
       "      <td>GRUMETI</td>\n",
       "      <td>34.698766</td>\n",
       "      <td>-2.147466</td>\n",
       "      <td>Zahanati</td>\n",
       "      <td>Lake Victoria</td>\n",
       "      <td>Nyamara</td>\n",
       "      <td>...</td>\n",
       "      <td>soft</td>\n",
       "      <td>good</td>\n",
       "      <td>insufficient</td>\n",
       "      <td>insufficient</td>\n",
       "      <td>rainwater harvesting</td>\n",
       "      <td>rainwater harvesting</td>\n",
       "      <td>surface</td>\n",
       "      <td>communal standpipe</td>\n",
       "      <td>communal standpipe</td>\n",
       "      <td>functional</td>\n",
       "    </tr>\n",
       "  </tbody>\n",
       "</table>\n",
       "<p>2 rows × 38 columns</p>\n",
       "</div>"
      ],
      "text/plain": [
       "   amount_tsh date_recorded   funder  gps_height installer  longitude  \\\n",
       "0      6000.0    2011-03-14    Roman        1390     Roman  34.938093   \n",
       "1         0.0    2013-03-06  Grumeti        1399   GRUMETI  34.698766   \n",
       "\n",
       "   latitude  wpt_name          basin subvillage  ... water_quality  \\\n",
       "0 -9.856322      none     Lake Nyasa   Mnyusi B  ...          soft   \n",
       "1 -2.147466  Zahanati  Lake Victoria    Nyamara  ...          soft   \n",
       "\n",
       "  quality_group      quantity quantity_group                source  \\\n",
       "0          good        enough         enough                spring   \n",
       "1          good  insufficient   insufficient  rainwater harvesting   \n",
       "\n",
       "            source_type source_class     waterpoint_type  \\\n",
       "0                spring  groundwater  communal standpipe   \n",
       "1  rainwater harvesting      surface  communal standpipe   \n",
       "\n",
       "  waterpoint_type_group status_group  \n",
       "0    communal standpipe   functional  \n",
       "1    communal standpipe   functional  \n",
       "\n",
       "[2 rows x 38 columns]"
      ]
     },
     "execution_count": 29,
     "metadata": {},
     "output_type": "execute_result"
    }
   ],
   "source": [
    "df = pd.read_csv('../data/processed/post_eda_data.csv', dtype=data_types_dict)\n",
    "df.head(2)"
   ]
  },
  {
   "cell_type": "markdown",
   "metadata": {},
   "source": [
    "---"
   ]
  },
  {
   "cell_type": "markdown",
   "metadata": {},
   "source": [
    "### Missing Values"
   ]
  },
  {
   "cell_type": "markdown",
   "metadata": {},
   "source": [
    "**Numerical Columns**"
   ]
  },
  {
   "cell_type": "code",
   "execution_count": 30,
   "metadata": {},
   "outputs": [
    {
     "name": "stdout",
     "output_type": "stream",
     "text": [
      "Absolute Number:\n",
      "amount_tsh           41639\n",
      "gps_height           20438\n",
      "longitude             1812\n",
      "population           21381\n",
      "construction_year    20709\n",
      "dtype: int64\n",
      "\n",
      "In PERCENTAGE %:\n",
      "amount_tsh           70.099327\n",
      "gps_height           34.407407\n",
      "longitude             3.050505\n",
      "population           35.994949\n",
      "construction_year    34.863636\n",
      "dtype: float64\n"
     ]
    }
   ],
   "source": [
    "# get a list of numerical features\n",
    "numerical_features = df.drop(columns = ['status_group'])\\\n",
    "                            .select_dtypes(include=['int64', 'float64'])\\\n",
    "                                .columns\\\n",
    "                                    .to_list()\n",
    "\n",
    "# get a series of numerical columns with \n",
    "columns_with_zeros: pd.Series = df[numerical_features].apply(lambda col: (col == 0).sum())\n",
    "\n",
    "# Display columns with a significant number of zeros\n",
    "\n",
    "print(\"Absolute Number:\")\n",
    "print(columns_with_zeros[columns_with_zeros > 0])\n",
    "\n",
    "print(\"\\nIn PERCENTAGE %:\")\n",
    "print(columns_with_zeros[columns_with_zeros > 0]/len(df) * 100)"
   ]
  },
  {
   "cell_type": "markdown",
   "metadata": {},
   "source": [
    "**Observation:** <br>\n",
    "Potential explanation for zero values\n",
    "\n",
    "1. amount_tsh: represents waterpoints with no water available.\n",
    "2. gps_height: zero represents sea-level\n",
    "3. longitude: 0 places the location in the Atlantic Ocean, so definitely missing value\n",
    "4. population: either no people live near the pump, or it's missing value\n",
    "5. construction_year: definitely missing value"
   ]
  },
  {
   "cell_type": "markdown",
   "metadata": {},
   "source": [
    "---"
   ]
  },
  {
   "cell_type": "markdown",
   "metadata": {},
   "source": [
    "### Lets take a closer look at these 5 features"
   ]
  },
  {
   "cell_type": "markdown",
   "metadata": {},
   "source": [
    "### 1. feature: amount_tsh"
   ]
  },
  {
   "cell_type": "markdown",
   "metadata": {},
   "source": [
    "**Question:** <br>\n",
    "What percentage of **functional** water pumps have no water i.e. amount_tsh = 0?"
   ]
  },
  {
   "cell_type": "code",
   "execution_count": 31,
   "metadata": {},
   "outputs": [
    {
     "name": "stdout",
     "output_type": "stream",
     "text": [
      " - Number of functional pumps with amount_tsh as zero: 19706\n",
      " - Number of functional pumps is: 32259\n",
      "ANSWER: percentage of functional pumps with feature:'amount_tsh'== 0 is 61.09 %\n"
     ]
    }
   ],
   "source": [
    "# number of functional pumps that have no water\n",
    "functional_zero_tsh_mask =(df['status_group'] == 'functional') & (df['amount_tsh'] == 0)\n",
    "functional_zero_tsh_len = len(df[functional_zero_tsh_mask]) \n",
    "print(f\" - Number of functional pumps with amount_tsh as zero: {functional_zero_tsh_len}\")\n",
    "\n",
    "# total number of functional pumps\n",
    "total_functional_pumps = len(df[df['status_group'] == 'functional'])\n",
    "print(f\" - Number of functional pumps is: {total_functional_pumps}\")\n",
    "\n",
    "# percentage of functional pumps with no water\n",
    "ans = round(functional_zero_tsh_len/total_functional_pumps, 4) * 100\n",
    "print(f\"ANSWER: percentage of functional pumps with feature:'amount_tsh'== 0 is {ans} %\")\n"
   ]
  },
  {
   "cell_type": "markdown",
   "metadata": {},
   "source": [
    "**Answer:** <br>\n",
    "- ~61% of functional pumps have an 'amount_tsh' value of zero <br>\n",
    "<br>\n",
    "\n",
    "**Possibilities:** <br>\n",
    " - missing value\n",
    " - might be genuine, pump might be functional, but there might be no water"
   ]
  },
  {
   "cell_type": "markdown",
   "metadata": {},
   "source": [
    "**Action:** <br>\n",
    "\n",
    "**In the future:**\n",
    "- We might do a segmentation analysis. For example, we can check if functional pumps with zero 'amount_tsh' are more common in certain regions, subvillages, or based on other categorical variables. This can provide insight into whether these zeros are valid or likely missing data.\n",
    "<br>\n",
    "\n",
    "**For now:**\n",
    "- treat 0s as missing value\n",
    "- impute missing values with median"
   ]
  },
  {
   "cell_type": "code",
   "execution_count": 32,
   "metadata": {},
   "outputs": [],
   "source": [
    "def impute_nan_by_status_group(feature_name, status, aggregation_method):\n",
    "    aggregator_series = df.groupby('status_group')[feature_name].aggregate(aggregation_method)\n",
    "    \n",
    "    boolean_mask = (df['status_group'] == status) & (df[feature_name].isna())\n",
    "    df.loc[boolean_mask, feature_name] = aggregator_series[status]\n",
    "    \n",
    "    print(f'Replaced nulls with {aggregator_series[status]} for {status}')\n",
    "    return df"
   ]
  },
  {
   "cell_type": "code",
   "execution_count": 33,
   "metadata": {},
   "outputs": [],
   "source": [
    "# replace 0's with nan\n",
    "df['amount_tsh'].replace(0, np.nan, inplace=True)"
   ]
  },
  {
   "cell_type": "code",
   "execution_count": 34,
   "metadata": {},
   "outputs": [
    {
     "name": "stdout",
     "output_type": "stream",
     "text": [
      "Replaced nulls with 250.0 for functional\n",
      "Replaced nulls with 200.0 for non functional\n",
      "Replaced nulls with 300.0 for functional needs repair\n"
     ]
    }
   ],
   "source": [
    "# Making separate calls to the function within a loop\n",
    "for status in df['status_group'].unique():\n",
    "    df = impute_nan_by_status_group(feature_name = 'amount_tsh', status=status, aggregation_method='median')"
   ]
  },
  {
   "cell_type": "code",
   "execution_count": 35,
   "metadata": {},
   "outputs": [
    {
     "data": {
      "text/plain": [
       "0"
      ]
     },
     "execution_count": 35,
     "metadata": {},
     "output_type": "execute_result"
    }
   ],
   "source": [
    "# sanity check\n",
    "df['amount_tsh'].isna().sum()"
   ]
  },
  {
   "cell_type": "markdown",
   "metadata": {},
   "source": [
    "---"
   ]
  },
  {
   "cell_type": "markdown",
   "metadata": {},
   "source": [
    "### 2. feature: gps_height"
   ]
  },
  {
   "cell_type": "markdown",
   "metadata": {},
   "source": [
    "**Observation:** <br>\n",
    "- zero represents sea-level\n",
    "- the highest point in Tanzania is 5895 m (19,341 ft)\n",
    "- the lowest is floor of Lake Tanganyika, which goes down to 352 m (1,115 ft) below sea level at its deepest.\n",
    "- - the lakes surface is above sea level.\n",
    "- zero could be valid\n",
    "- - but given the high proportion of zeros, it might also contain  missing data \n",
    "<br>\n",
    "\n",
    "**Assumption:** <br>\n",
    "- We will assume it to be missing data\n",
    "\n",
    "**Action:** <br>\n",
    "\n",
    "**In the future:**\n",
    "- look more into it, someone with knowledge of Tanzania's topography might be instrumental\n",
    "\n",
    "**For now:**\n",
    "- impute missing values with median"
   ]
  },
  {
   "cell_type": "code",
   "execution_count": 36,
   "metadata": {},
   "outputs": [
    {
     "name": "stdout",
     "output_type": "stream",
     "text": [
      "Replaced nulls with 1249.0 for functional\n",
      "Replaced nulls with 997.0 for non functional\n",
      "Replaced nulls with 1159.5 for functional needs repair\n"
     ]
    }
   ],
   "source": [
    "df['gps_height'].replace(0, np.nan, inplace=True)\n",
    "\n",
    "for status in df['status_group'].unique():\n",
    "    df = impute_nan_by_status_group(feature_name = 'gps_height', status=status, aggregation_method='median')"
   ]
  },
  {
   "cell_type": "code",
   "execution_count": 37,
   "metadata": {},
   "outputs": [
    {
     "data": {
      "text/plain": [
       "0"
      ]
     },
     "execution_count": 37,
     "metadata": {},
     "output_type": "execute_result"
    }
   ],
   "source": [
    "# sanity check\n",
    "df['gps_height'].isna().sum()"
   ]
  },
  {
   "cell_type": "markdown",
   "metadata": {},
   "source": [
    "---"
   ]
  },
  {
   "cell_type": "markdown",
   "metadata": {},
   "source": [
    "### 3. feature: longtitude"
   ]
  },
  {
   "cell_type": "markdown",
   "metadata": {},
   "source": [
    "**Observation:**\n",
    "- zero places the location in the Atlantic Ocean\n",
    "\n",
    "**Action:** \n",
    "- impute missing values with median"
   ]
  },
  {
   "cell_type": "code",
   "execution_count": 55,
   "metadata": {},
   "outputs": [
    {
     "name": "stdout",
     "output_type": "stream",
     "text": [
      "Replaced nulls with 35.08636786 for functional\n",
      "Replaced nulls with 35.048525645 for non functional\n",
      "Replaced nulls with 34.18320909 for functional needs repair\n"
     ]
    }
   ],
   "source": [
    "df['longitude'].replace(0, np.nan, inplace=True)\n",
    "\n",
    "for status in df['status_group'].unique():\n",
    "    df = impute_nan_by_status_group(feature_name = 'longitude', status=status, aggregation_method='median')"
   ]
  },
  {
   "cell_type": "code",
   "execution_count": 39,
   "metadata": {},
   "outputs": [
    {
     "data": {
      "text/plain": [
       "0"
      ]
     },
     "execution_count": 39,
     "metadata": {},
     "output_type": "execute_result"
    }
   ],
   "source": [
    "# sanity check\n",
    "df['longitude'].isna().sum()"
   ]
  },
  {
   "cell_type": "markdown",
   "metadata": {},
   "source": [
    "---"
   ]
  },
  {
   "cell_type": "markdown",
   "metadata": {},
   "source": [
    "### 4. feature: population\n",
    "\n",
    "**Observation:** <br>\n",
    "- either noone lives near the pump, or it is missing value\n",
    "<br>\n",
    "\n",
    "**Assumption:** <br>\n",
    "- zeroes represent missing value \n",
    "<br>\n",
    "\n",
    "**Action:**\n",
    "- impute missing values with median"
   ]
  },
  {
   "cell_type": "code",
   "execution_count": 40,
   "metadata": {},
   "outputs": [
    {
     "name": "stdout",
     "output_type": "stream",
     "text": [
      "Replaced nulls with 150.0 for functional\n",
      "Replaced nulls with 150.0 for non functional\n",
      "Replaced nulls with 200.0 for functional needs repair\n"
     ]
    }
   ],
   "source": [
    "df['population'].replace(0, np.nan, inplace=True)\n",
    "for status in df['status_group'].unique():\n",
    "    df = impute_nan_by_status_group(feature_name = 'population', status=status, aggregation_method='median')"
   ]
  },
  {
   "cell_type": "code",
   "execution_count": 41,
   "metadata": {},
   "outputs": [
    {
     "data": {
      "text/plain": [
       "0"
      ]
     },
     "execution_count": 41,
     "metadata": {},
     "output_type": "execute_result"
    }
   ],
   "source": [
    "# sanity check\n",
    "df['population'].isna().sum()"
   ]
  },
  {
   "cell_type": "markdown",
   "metadata": {},
   "source": [
    "### 5. feature: contruction_year\n",
    "\n",
    "**Observation:** <br>\n",
    "- construction_year cannot be zero, so it is definitely a missing value\n",
    "<br>\n",
    "\n",
    "**Action:**\n",
    "- impute missing values with median"
   ]
  },
  {
   "cell_type": "code",
   "execution_count": 42,
   "metadata": {},
   "outputs": [
    {
     "name": "stdout",
     "output_type": "stream",
     "text": [
      "Replaced nulls with 2003.0 for functional\n",
      "Replaced nulls with 1994.0 for non functional\n",
      "Replaced nulls with 1998.0 for functional needs repair\n"
     ]
    }
   ],
   "source": [
    "df['construction_year'].replace(0, np.nan, inplace=True)\n",
    "for status in df['status_group'].unique():\n",
    "    df = impute_nan_by_status_group(feature_name = 'construction_year', status=status, aggregation_method='median')"
   ]
  },
  {
   "cell_type": "code",
   "execution_count": 43,
   "metadata": {},
   "outputs": [
    {
     "data": {
      "text/plain": [
       "0"
      ]
     },
     "execution_count": 43,
     "metadata": {},
     "output_type": "execute_result"
    }
   ],
   "source": [
    "# sanity check\n",
    "df['construction_year'].isna().sum()"
   ]
  },
  {
   "cell_type": "markdown",
   "metadata": {},
   "source": [
    "<span style =\"color:red\"> Important consideration after imputing missing data based on segments defined by the target variable </span>\n",
    "1. Information Leakage: We performed imputation by segmentation on all observations with missing values before splitting to training and testing subsets. This might lead to overoptimistic estimates of model's performance\n",
    "2. Bias and Variance: Could introduce bias, if imputation alters the underlying distribution of the feature. On the flipside, it could also reduce variance\n",
    "3. Alternative Imputation Methods: K-nearest neigbors imputation, or other model-based imputation such as random forest to predict missing values"
   ]
  },
  {
   "cell_type": "markdown",
   "metadata": {},
   "source": [
    "---"
   ]
  },
  {
   "cell_type": "code",
   "execution_count": 44,
   "metadata": {},
   "outputs": [
    {
     "name": "stdout",
     "output_type": "stream",
     "text": [
      "Absolute Number:\n",
      "funder                3637\n",
      "installer             3655\n",
      "wpt_name                 2\n",
      "subvillage             371\n",
      "public_meeting        3334\n",
      "scheme_management     3878\n",
      "scheme_name          28810\n",
      "permit                3056\n",
      "dtype: int64\n",
      "\n",
      "In PERCENTAGE %:\n",
      "funder                6.122896\n",
      "installer             6.153199\n",
      "wpt_name              0.003367\n",
      "subvillage            0.624579\n",
      "public_meeting        5.612795\n",
      "scheme_management     6.528620\n",
      "scheme_name          48.501684\n",
      "permit                5.144781\n",
      "dtype: float64\n"
     ]
    }
   ],
   "source": [
    "# get a list of numerical features\n",
    "non_numerical_features = df.drop(columns = ['status_group'])\\\n",
    "                            .select_dtypes(include=['category', 'object', 'datetime64[ns]'])\\\n",
    "                                .columns\\\n",
    "                                    .to_list()\n",
    "\n",
    "# get a series of non numerical columns with missing values\n",
    "columns_with_nas: pd.Series = df[non_numerical_features].apply(lambda col: (col.isna()).sum())\n",
    "\n",
    "# Display columns with a significant number of missing values\n",
    "print(\"Absolute Number:\")\n",
    "print(columns_with_nas[columns_with_nas > 0])\n",
    "\n",
    "print(\"\\nIn PERCENTAGE %:\")\n",
    "print(columns_with_nas[columns_with_nas > 0]/len(df) * 100)"
   ]
  },
  {
   "cell_type": "markdown",
   "metadata": {},
   "source": [
    "**Observation:** <br>\n",
    "- scheme_name: with > 48% data missing, imputing might introduce a lot of bias. Lets drop it\n",
    "- scheme_management, installer, funder: ~ 6% data missing. We can impute with mode(most frequent value) or a placeholder like \"unknown\"\n",
    "- public_meeting and permit: ~ 5% missing. Boolean features. Can treat missing value as third category \"unknown\"\n",
    "- subvillage: ~ 0.62% missing. Impute mode or replace with \"unknown\"\n",
    "- wpt_name: ~0.003% missing. Impute with mode or drop rows completely"
   ]
  },
  {
   "cell_type": "code",
   "execution_count": 45,
   "metadata": {},
   "outputs": [],
   "source": [
    "df['scheme_name'] = df['scheme_name'].cat.add_categories(['Unknown'])\n",
    "df['scheme_name'].fillna('Unknown', inplace=True)"
   ]
  },
  {
   "cell_type": "code",
   "execution_count": 46,
   "metadata": {},
   "outputs": [],
   "source": [
    "for column in ['scheme_management', 'installer', 'funder']:\n",
    "    most_frequent_value = df[column].mode()[0]\n",
    "    df[column].fillna(most_frequent_value, inplace=True)"
   ]
  },
  {
   "cell_type": "code",
   "execution_count": 47,
   "metadata": {},
   "outputs": [],
   "source": [
    "for column in ['public_meeting', 'permit']:\n",
    "    df[column].fillna('Unknown', inplace=True)"
   ]
  },
  {
   "cell_type": "code",
   "execution_count": 48,
   "metadata": {},
   "outputs": [],
   "source": [
    "most_frequent_subvillage = df['subvillage'].mode()[0]\n",
    "df['subvillage'].fillna(most_frequent_subvillage, inplace=True)\n"
   ]
  },
  {
   "cell_type": "code",
   "execution_count": 49,
   "metadata": {},
   "outputs": [],
   "source": [
    "most_frequent_wpt_name = df['wpt_name'].mode()[0]\n",
    "df['wpt_name'].fillna(most_frequent_wpt_name, inplace=True)\n"
   ]
  },
  {
   "cell_type": "markdown",
   "metadata": {},
   "source": [
    "---"
   ]
  },
  {
   "cell_type": "code",
   "execution_count": 52,
   "metadata": {},
   "outputs": [
    {
     "name": "stdout",
     "output_type": "stream",
     "text": [
      "Series([], dtype: int64)\n"
     ]
    }
   ],
   "source": [
    "missing_values_after = df.isnull().sum()\n",
    "print(missing_values_after[missing_values_after > 0])"
   ]
  },
  {
   "cell_type": "markdown",
   "metadata": {},
   "source": [
    "---"
   ]
  },
  {
   "cell_type": "markdown",
   "metadata": {},
   "source": [
    "Export modifed dataset"
   ]
  },
  {
   "cell_type": "code",
   "execution_count": 53,
   "metadata": {},
   "outputs": [],
   "source": [
    "# Specify the file path where you want to save the DataFrame\n",
    "file_path = '../data/processed/post_missing_values_data.csv'\n",
    "\n",
    "# Save the DataFrame to a CSV file\n",
    "df.to_csv(file_path, index=False)"
   ]
  }
 ],
 "metadata": {
  "kernelspec": {
   "display_name": "venv",
   "language": "python",
   "name": "python3"
  },
  "language_info": {
   "codemirror_mode": {
    "name": "ipython",
    "version": 3
   },
   "file_extension": ".py",
   "mimetype": "text/x-python",
   "name": "python",
   "nbconvert_exporter": "python",
   "pygments_lexer": "ipython3",
   "version": "3.9.0"
  },
  "orig_nbformat": 4
 },
 "nbformat": 4,
 "nbformat_minor": 2
}
